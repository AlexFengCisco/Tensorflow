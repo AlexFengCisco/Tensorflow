{
 "cells": [
  {
   "cell_type": "markdown",
   "metadata": {},
   "source": [
    "# Alex Jupyter notebook Tensorflow"
   ]
  },
  {
   "cell_type": "markdown",
   "metadata": {},
   "source": [
    "    A Jupyter learning notes for tensorflow \n",
    "    June ,2017\n",
    "    Alex Feng\n",
    "    alfeng@cisco.com\n",
    "    \n",
    "    Jupyter_path = /Users/AlexFeng/Library/Python/2.7/bin/jupyter notebook\n",
    "    \n",
    "[Tensorflow official web](http://www.tensorflow.org)\n",
    "    \n",
    "For Github , please refer [Alex Github Tensorflow link][rf1]\n",
    "    \n",
    "   [rf1]:<https://github.com/AlexFengCisco/Tensorflow/blob/master/Jupyter_note/Tensorflow_note.ipynb>"
   ]
  },
  {
   "cell_type": "markdown",
   "metadata": {},
   "source": [
    "### Import modules"
   ]
  },
  {
   "cell_type": "code",
   "execution_count": 31,
   "metadata": {
    "collapsed": true
   },
   "outputs": [],
   "source": [
    "import tensorflow as tf\n",
    "import numpy as np\n",
    "import matplotlib as mpl\n",
    "from matplotlib import pyplot as plt\n",
    "from matplotlib import animation\n",
    "from numpy.random import RandomState"
   ]
  },
  {
   "cell_type": "markdown",
   "metadata": {},
   "source": [
    "### Linear matplot"
   ]
  },
  {
   "cell_type": "code",
   "execution_count": 14,
   "metadata": {
    "scrolled": true
   },
   "outputs": [
    {
     "data": {
      "text/plain": [
       "[<matplotlib.lines.Line2D at 0x11664fd50>]"
      ]
     },
     "execution_count": 14,
     "metadata": {},
     "output_type": "execute_result"
    },
    {
     "data": {
      "image/png": "[encoded data removed]",
      "text/plain": [
       "<matplotlib.figure.Figure at 0x1168c5090>"
      ]
     },
     "metadata": {},
     "output_type": "display_data"
    }
   ],
   "source": [
    "plt.plot([1,2,3,4,5],[1,2,3,4,5])"
   ]
  },
  {
   "cell_type": "markdown",
   "metadata": {},
   "source": [
    "### Add picture link in Jupyter notebook page"
   ]
  },
  {
   "cell_type": "code",
   "execution_count": 15,
   "metadata": {},
   "outputs": [
    {
     "data": {
      "text/html": [
       "<img src=\"https://lh3.googleusercontent.com/hIViPosdbSGUpLmPnP2WqL9EmvoVOXW7dy6nztmY5NZ9_u5lumMz4sQjjsBZ2QxjyZZCIPgucD2rhdL5uR7K0vLi09CEJYY=s688\"/>"
      ],
      "text/plain": [
       "<IPython.core.display.Image object>"
      ]
     },
     "execution_count": 15,
     "metadata": {},
     "output_type": "execute_result"
    }
   ],
   "source": [
    "from IPython.display import Image\n",
    "from IPython.core.display import HTML\n",
    "\n",
    "Image(url=\"https://lh3.googleusercontent.com/hIViPosdbSGUpLmPnP2WqL9EmvoVOXW7dy6nztmY5NZ9_u5lumMz4sQjjsBZ2QxjyZZCIPgucD2rhdL5uR7K0vLi09CEJYY=s688\")"
   ]
  },
  {
   "cell_type": "markdown",
   "metadata": {},
   "source": [
    "### Add local picture with markdown"
   ]
  },
  {
   "cell_type": "markdown",
   "metadata": {},
   "source": [
    "![title](sin.png)"
   ]
  },
  {
   "cell_type": "markdown",
   "metadata": {},
   "source": [
    "### Tensorflow get_default_graph()"
   ]
  },
  {
   "cell_type": "code",
   "execution_count": 8,
   "metadata": {
    "scrolled": true
   },
   "outputs": [
    {
     "name": "stdout",
     "output_type": "stream",
     "text": [
      "<tensorflow.python.framework.ops.Graph object at 0x104073090>\n",
      "True\n",
      "Tensor(\"a_1:0\", shape=(2,), dtype=float32)\n"
     ]
    }
   ],
   "source": [
    "a = tf.constant([1.0,2.0],name='a')\n",
    "b = tf.constant([2.0,3.0],name='b')\n",
    "print(tf.get_default_graph())\n",
    "print(a.graph is tf.get_default_graph())\n",
    "\n",
    "print a"
   ]
  },
  {
   "cell_type": "markdown",
   "metadata": {},
   "source": [
    "### Matplot nonlinear "
   ]
  },
  {
   "cell_type": "code",
   "execution_count": 5,
   "metadata": {},
   "outputs": [
    {
     "data": {
      "text/plain": [
       "[<matplotlib.lines.Line2D at 0x10b6b2b10>]"
      ]
     },
     "execution_count": 5,
     "metadata": {},
     "output_type": "execute_result"
    },
    {
     "data": {
      "image/png": "[encoded data removed]",
      "text/plain": [
       "<matplotlib.figure.Figure at 0x10b4fa2d0>"
      ]
     },
     "metadata": {},
     "output_type": "display_data"
    }
   ],
   "source": [
    "i=0\n",
    "ii=-10\n",
    "x =[]\n",
    "y =[]\n",
    "for i in range(200):\n",
    "    x.append(ii)\n",
    "    y.append(ii*ii)\n",
    "    ii=ii+0.1\n",
    "%matplotlib inline \n",
    "# for interactive python mode ,ie ipython in Jupyter notebook\n",
    "plt.plot(x,y)  "
   ]
  },
  {
   "cell_type": "markdown",
   "metadata": {},
   "source": [
    "### Tensorflow avtivation function matplot"
   ]
  },
  {
   "cell_type": "code",
   "execution_count": 7,
   "metadata": {
    "scrolled": false
   },
   "outputs": [
    {
     "data": {
      "text/plain": [
       "[<matplotlib.lines.Line2D at 0x10b934290>]"
      ]
     },
     "execution_count": 7,
     "metadata": {},
     "output_type": "execute_result"
    },
    {
     "data": {
      "image/png": "[encoded data removed]",
      "text/plain": [
       "<matplotlib.figure.Figure at 0x10b7c7590>"
      ]
     },
     "metadata": {},
     "output_type": "display_data"
    }
   ],
   "source": [
    "X=tf.constant(x,dtype=tf.float32)\n",
    "sess=tf.Session()\n",
    "Y=sess.run(tf.tanh(X)) \n",
    "# activation function  tf.nn.relu()  tf.sigmoid()  tf.tanh()\n",
    "\n",
    "%matplotlib inline\n",
    "plt.plot(x,Y) "
   ]
  },
  {
   "cell_type": "markdown",
   "metadata": {
    "collapsed": true
   },
   "source": [
    "### Tensorflow queue"
   ]
  },
  {
   "cell_type": "markdown",
   "metadata": {},
   "source": [
    "\n",
    ">create a queue , init FIFO queue with digits , and first out the queue , plus the digit and push into the queue tail , then do it twice ...\n"
   ]
  },
  {
   "cell_type": "code",
   "execution_count": 10,
   "metadata": {},
   "outputs": [
    {
     "name": "stdout",
     "output_type": "stream",
     "text": [
      "0.3\n",
      "1.1\n",
      "1.2\n"
     ]
    }
   ],
   "source": [
    "q = tf.FIFOQueue(3,\"float\")\n",
    "init = q.enqueue_many(([0.1,0.2,0.3],))\n",
    "x = q.dequeue()\n",
    "y = x+1\n",
    "q_inc = q.enqueue([y])\n",
    "\n",
    "with tf.Session() as sess:\n",
    "    sess.run(init)\n",
    "    quelen = sess.run(q.size())\n",
    "    for i in range(2):\n",
    "        sess.run(q_inc)\n",
    "        \n",
    "    quelen = sess.run(q.size())\n",
    "    for i in range(quelen):\n",
    "        print (sess.run(q.dequeue()))\n",
    "        "
   ]
  },
  {
   "cell_type": "markdown",
   "metadata": {},
   "source": [
    ">The follwoing demostrate tf.Variable tf.random_normal with seed"
   ]
  },
  {
   "cell_type": "code",
   "execution_count": 13,
   "metadata": {},
   "outputs": [
    {
     "name": "stdout",
     "output_type": "stream",
     "text": [
      "Session 1\n",
      "[ 0.93651235]\n",
      "[ 0.72354221]\n",
      "[-0.98065913]\n",
      "[-1.60730386]\n",
      "Session 2\n",
      "[ 0.38616145]\n",
      "[ 0.09960794]\n",
      "[-1.09278762]\n",
      "[-1.12372315]\n"
     ]
    }
   ],
   "source": [
    "a = tf.random_uniform([1]) # no seed\n",
    "b = tf.random_normal([1])\n",
    "\n",
    "print(\"Session 1\")\n",
    "with tf.Session() as sess1:\n",
    "  print(sess1.run(a))  # generates 'A1'\n",
    "  print(sess1.run(a))  # generates 'A2'\n",
    "  print(sess1.run(b))  # generates 'B1'\n",
    "  print(sess1.run(b))  # generates 'B2'\n",
    "\n",
    "print(\"Session 2\")\n",
    "with tf.Session() as sess2:\n",
    "  print(sess2.run(a))  # generates 'A3'\n",
    "  print(sess2.run(a))  # generates 'A4'\n",
    "  print(sess2.run(b))  # generates 'B3'\n",
    "  print(sess2.run(b))  # generates 'B4'"
   ]
  },
  {
   "cell_type": "code",
   "execution_count": 14,
   "metadata": {},
   "outputs": [
    {
     "name": "stdout",
     "output_type": "stream",
     "text": [
      "Session 1\n",
      "[[ 0.23903739  0.92039955  0.05051243]\n",
      " [ 0.49574447  0.83552229  0.02647042]]\n",
      "[[ 0.76375294  0.81383967  0.45532501]\n",
      " [ 0.04126346  0.71633077  0.72387242]]\n",
      "[-1.06889081]\n",
      "[-1.30729699]\n",
      "Session 2\n",
      "[[ 0.23903739  0.92039955  0.05051243]\n",
      " [ 0.49574447  0.83552229  0.02647042]]\n",
      "[[ 0.76375294  0.81383967  0.45532501]\n",
      " [ 0.04126346  0.71633077  0.72387242]]\n",
      "[ 0.45696697]\n",
      "[ 0.93150395]\n"
     ]
    }
   ],
   "source": [
    "a = tf.random_uniform([2,3], seed=1)\n",
    "b = tf.random_normal([1])\n",
    "\n",
    "# Repeatedly running this block with the same graph will generate the same\n",
    "# sequence of values for 'a', but different sequences of values for 'b'.\n",
    "print(\"Session 1\")\n",
    "with tf.Session() as sess1:\n",
    "  print(sess1.run(a))  # generates 'A1'\n",
    "  print(sess1.run(a))  # generates 'A2'\n",
    "  print(sess1.run(b))  # generates 'B1'\n",
    "  print(sess1.run(b))  # generates 'B2'\n",
    "\n",
    "print(\"Session 2\")\n",
    "with tf.Session() as sess2:\n",
    "  print(sess2.run(a))  # generates 'A1'\n",
    "  print(sess2.run(a))  # generates 'A2'\n",
    "  print(sess2.run(b))  # generates 'B3'\n",
    "  print(sess2.run(b))  # generates 'B4'"
   ]
  },
  {
   "cell_type": "code",
   "execution_count": 88,
   "metadata": {},
   "outputs": [
    {
     "name": "stdout",
     "output_type": "stream",
     "text": [
      "training  sample X\n",
      "[[  4.17022005e-01   7.20324493e-01]\n",
      " [  1.14374817e-04   3.02332573e-01]\n",
      " [  1.46755891e-01   9.23385948e-02]\n",
      " ..., \n",
      " [  8.95640966e-01   9.95092184e-01]\n",
      " [  5.08795775e-01   7.86913512e-01]\n",
      " [  6.50519285e-01   1.31239960e-01]]\n",
      "training lable Y\n",
      "[[0], [1], [1], [1], [1], [0], [0], [1], [1], [1], [0], [0], [0], [1], [0], [1], [0], [0], [0], [1], [0], [0], [1], [0], [1], [1], [1], [1], [1], [0], [1], [0], [1], [0], [0], [0], [1], [1], [0], [0], [0], [0], [0], [0], [0], [0], [0], [1], [0], [1], [1], [0], [0], [1], [0], [1], [0], [1], [0], [1], [1], [1], [0], [0], [1], [0], [1], [0], [0], [0], [1], [1], [1], [1], [1], [0], [1], [1], [1], [0], [1], [0], [1], [1], [0], [0], [1], [0], [1], [1], [1], [1], [0], [1], [0], [1], [0], [0], [1], [0], [0], [0], [1], [0], [0], [0], [1], [1], [1], [1], [1], [1], [0], [0], [0], [0], [0], [0], [1], [0], [0], [1], [0], [1], [0], [1], [0], [0], [0], [1], [0], [0], [0], [0], [1], [1], [0], [0], [1], [0], [0], [1], [0], [0], [0], [0], [0], [1], [1], [0], [0], [0], [1], [1], [1], [0], [1], [1], [1], [0], [0], [1], [1], [1], [0], [1], [1], [1], [0], [0], [0], [0], [1], [0], [1], [0], [1], [1], [0], [0], [1], [0], [0], [0], [1], [1], [1], [1], [0], [1], [0], [0], [1], [0], [1], [0], [1], [0], [0], [0], [0], [1], [0], [1], [1], [1], [0], [0], [0], [0], [1], [1], [1], [1], [0], [1], [1], [0], [1], [1], [1], [1], [0], [0], [1], [1], [0], [0], [0], [1], [1], [1], [0], [0], [1], [0], [1], [1], [0], [1], [0], [0], [0], [1], [1], [0], [1], [0], [0], [0], [1], [1], [0], [0], [1], [1], [1], [0], [1], [0], [0], [0], [1], [1], [1], [0], [0], [0], [0], [1], [0], [1], [1], [0], [0], [1], [0], [1], [0], [1], [1], [1], [0], [0], [1], [0], [0], [0], [1], [0], [0], [0], [0], [0], [1], [0], [1], [1], [1], [1], [0], [1], [0], [0], [0], [0], [0], [0], [1], [1], [1], [1], [1], [0], [0], [0], [0], [1], [0], [1], [1], [1], [1], [1], [1], [1], [1], [0], [1], [1], [0], [1], [1], [1], [1], [0], [0], [0], [1], [0], [0], [0], [0], [0], [0], [1], [0], [1], [0], [1], [1], [1], [1], [0], [0], [1], [1], [0], [0], [1], [0], [0], [0], [1], [0], [1], [0], [0], [0], [1], [0], [0], [1], [0], [0], [1], [0], [0], [0], [1], [0], [1], [1], [0], [0], [0], [0], [1], [1], [1], [0], [0], [0], [0], [0], [1], [0], [0], [1], [0], [0], [0], [0], [1], [1], [1], [0], [1], [1], [0], [1], [1], [1], [1], [0], [0], [1], [0], [1], [1], [1], [0], [0], [1], [1], [0], [1], [0], [0], [1], [0], [0], [0], [0], [0], [1], [1], [1], [1], [0], [1], [0], [0], [1], [1], [1], [1], [0], [0], [0], [0], [1], [1], [0], [1], [1], [0], [0], [0], [0], [1], [1], [1], [0], [1], [1], [1], [0], [1], [0], [1], [0], [1], [1], [1], [0], [1], [1], [0], [1], [0], [0], [1], [1], [0], [0], [0], [1], [1], [1], [1], [0], [1], [1], [0], [0], [1], [0], [1], [0], [0], [0], [1], [1], [1], [0], [0], [1], [1], [1], [0], [0], [1], [0], [0], [1], [1], [1], [1], [0], [1], [0], [0], [0], [0], [0], [1], [0], [0], [1], [1], [1], [0], [1], [0], [1], [0], [0], [0], [0], [0], [1], [1], [1], [0], [0], [1], [0], [1], [0], [1], [1], [0], [0], [0], [1], [0], [1], [1], [1], [1], [0], [0], [1], [1], [1], [1], [1], [0], [0], [1], [0], [0], [0], [1], [0], [0], [1], [0], [0], [1], [1], [0], [0], [1], [1], [1], [0], [0], [0], [0], [1], [0], [0], [0], [1], [0], [0], [1], [0], [0], [0], [1], [0], [0], [1], [1], [1], [0], [0], [1], [0], [1], [0], [1], [1], [0], [1], [0], [1], [1], [0], [0], [0], [1], [0], [1], [0], [1], [1], [1], [0], [1], [1], [1], [0], [1], [1], [1], [1], [0], [1], [0], [1], [0], [0], [0], [0], [0], [1], [1], [0], [1], [0], [0], [1], [1], [0], [0], [0], [0], [0], [1], [0], [1], [1], [1], [1], [0], [0], [0], [1], [0], [0], [0], [1], [1], [1], [1], [0], [0], [1], [0], [0], [0], [0], [1], [1], [1], [0], [1], [0], [1], [1], [1], [0], [0], [0], [0], [0], [1], [0], [0], [0], [1], [1], [0], [0], [0], [1], [1], [1], [0], [1], [0], [1], [0], [0], [1], [0], [0], [0], [0], [1], [1], [1], [1], [0], [0], [1], [0], [1], [1], [1], [1], [1], [1], [1], [0], [1], [1], [0], [0], [0], [1], [1], [1], [0], [0], [0], [1], [0], [1], [0], [1], [1], [0], [0], [1], [0], [0], [0], [0], [1], [1], [0], [0], [1], [1], [1], [1], [1], [0], [0], [1], [0], [0], [0], [0], [0], [0], [0], [1], [0], [1], [0], [1], [1], [0], [1], [0], [1], [1], [0], [0], [0], [1], [0], [0], [0], [1], [0], [0], [0], [1], [0], [1], [1], [1], [0], [0], [0], [0], [0], [1], [1], [1], [0], [0], [0], [1], [0], [0], [1], [0], [1], [0], [0], [0], [1], [0], [0], [0], [0], [0], [0], [1], [0], [0], [0], [1], [1], [1], [1], [0], [0], [1], [0], [0], [0], [0], [0], [1], [0], [1], [1], [0], [1], [0], [1], [0], [0], [1], [1], [0], [0], [0], [0], [0], [1], [0], [0], [1], [0], [0], [1], [0], [0], [1], [1], [0], [1], [1], [1], [1], [0], [1], [0], [0], [1], [0], [0], [0], [0], [0], [0], [0], [1], [0], [0], [0], [0], [0], [1], [1], [0], [1], [0], [0], [0], [1], [1], [1], [0], [0], [1], [1], [1], [1], [0], [0], [0], [0], [0], [1], [0], [1], [0], [1], [1], [1], [0], [1], [1], [1], [0], [0], [1], [1], [0], [0], [0], [0], [0], [0], [0], [1], [1], [0], [0], [1], [0], [1], [0], [1], [1], [0], [1], [0], [0], [0], [0], [1], [0], [0], [0], [1], [0], [0], [0], [1], [1], [1], [1], [0], [1], [0], [1], [1], [1], [0], [0], [0], [0], [0], [1], [1], [1], [1], [0], [1], [0], [1], [0], [1], [0], [0], [0], [0], [1], [0], [1], [1], [0], [1], [0], [1], [1], [1], [0], [0], [0], [1], [0], [1], [0], [0], [1], [1], [1], [1], [0], [1], [1], [0], [0], [1], [1], [0], [1], [1], [1], [1], [1], [1], [1], [1], [1], [1], [1], [0], [1], [0], [0], [0], [1], [0], [1], [0], [1], [0], [0], [1], [0], [1], [0], [1], [0], [1], [0], [1], [0], [1], [0], [0], [0], [1], [0], [1], [1], [0], [0], [0], [1], [1], [0], [1], [1], [1], [0], [1], [0], [1], [0], [1], [0], [1], [1], [1], [1], [0], [0], [1], [0], [1], [1], [1], [1], [1], [1], [0], [1], [0], [0], [0], [0], [0], [0], [1], [1], [0], [0], [1], [1], [1], [0], [0], [1], [0], [1], [0], [1], [1], [0], [0], [0], [1], [1], [1], [0], [0], [0], [1], [0], [1], [0], [0], [1], [0], [0], [0], [0], [0], [0], [1], [0], [1], [1], [0], [0], [1], [0], [0], [0], [0], [0], [1], [1], [0], [0], [1], [0], [1], [1], [1], [0], [1], [0], [0], [0], [0], [0], [0], [0], [0], [1], [0], [1], [1], [0], [0], [0], [0], [1], [1], [1], [1], [1], [1], [1], [0], [1], [1], [0], [1], [1], [0], [1], [1], [1], [0], [1], [1], [0], [1], [0], [1], [1], [1], [1], [1], [1], [0], [1], [1], [0], [1], [0], [0], [0], [1], [0], [0], [1], [0], [0], [1], [1], [0], [0], [0], [1], [1], [1], [0], [0], [0], [1], [1], [1], [1], [1], [1], [1], [1], [1], [1], [1], [0], [1], [0], [0], [0], [1], [1], [1], [0], [1], [1], [1], [0], [0], [0], [1], [1], [1], [1], [0], [0], [1], [0], [0], [0], [1], [1], [0], [1], [1], [1], [0], [1], [1], [1], [1], [1], [1], [0], [1], [1], [1], [0], [0], [0], [0], [1], [0], [1], [0], [1], [1], [1], [1], [0], [0], [1], [1], [0], [1], [1], [0], [0], [0], [0], [0], [1], [1], [1], [1], [0], [1], [0], [1], [0], [1], [1], [0], [0], [1], [0], [1], [1], [0], [0], [0], [0], [0], [1], [1], [1], [1], [1], [1], [0], [1], [1], [0], [0], [0], [0], [0], [0], [1], [0], [0], [1], [0], [0], [1], [1], [0], [1], [0], [1], [1], [0], [0], [1], [0], [1], [0], [1], [0], [0], [0], [1], [0], [1], [0], [1], [0], [0], [1], [0], [0], [1], [1], [0], [1], [1], [1], [1], [0], [0], [1], [0], [1], [1], [0], [1], [0], [1], [0], [0], [1], [1], [1], [1], [1], [0], [1], [0], [1], [1], [0], [1], [1], [1], [1], [0], [0], [0], [0], [0], [0], [1], [0], [1], [1], [0], [0], [0], [0], [0], [0], [1], [1], [1], [0], [0], [0], [0], [1], [1], [0], [1], [1], [1], [0], [1], [1], [0], [1], [0], [0], [1], [1], [0], [1], [0], [0], [0], [1], [0], [1], [1], [1], [1], [1], [1], [0], [1], [1], [1], [1], [0], [1], [1], [1], [1], [1], [0], [1], [1], [0], [0], [0], [0], [1], [1], [1], [1], [1], [1], [0], [0], [0], [1], [0], [1], [1], [1], [0], [0], [1], [0], [1], [0], [0], [1], [1], [1], [1], [0], [0], [0], [0], [0], [1], [0], [0], [0], [1], [0], [1], [1], [1], [0], [1], [0], [0], [0], [0], [0], [1], [0], [1], [0], [0], [0], [0], [1], [0], [0], [1], [1], [1], [0], [0], [1], [0], [1], [0], [1], [0], [0], [1], [0], [1], [0], [0], [1], [0], [1], [0], [1], [0], [1], [1], [0], [0], [0], [1], [1], [0], [1], [1], [1], [1], [0], [1], [1], [0], [1], [0], [0], [0], [1], [1], [1], [1], [1], [0], [0], [1], [1], [1], [0], [1], [0], [0], [1], [1], [1], [0], [1], [1], [1], [0], [1], [1], [1], [1], [0], [0], [1], [1], [1], [1], [1], [1], [1], [1], [0], [0], [1], [0], [0], [0], [1], [0], [0], [1], [0], [0], [1], [1], [0], [1], [1], [0], [1], [0], [0], [1], [0], [0], [1], [1], [1], [0], [1], [0], [1], [0], [1], [0], [1], [1], [1], [0], [1], [1], [0], [0], [0], [0], [1], [0], [0], [1], [1], [0], [0], [0], [0], [0], [0], [0], [1], [0], [1], [1], [0], [1], [0], [1], [1], [1], [0], [0], [0], [1], [0], [1], [0], [1], [1], [0], [1], [0], [1], [0], [0], [0], [1], [0], [0], [0], [1], [1], [0], [0], [1], [1], [0], [1], [1], [1], [1], [0], [1], [1], [1], [0], [1], [1], [1], [0], [1], [0], [1], [1], [1], [1], [1], [0], [0], [0], [0], [1], [1], [0], [0], [1], [0], [0], [0], [1], [0], [1], [0], [1], [0], [0], [1], [1], [1], [1], [0], [0], [1], [1], [1], [0], [1], [0], [0], [0], [1], [0], [1], [0], [1], [0], [1], [0], [1], [1], [0], [1], [1], [1], [0], [1], [1], [0], [1], [1], [1], [1], [1], [0], [0], [1], [0], [1], [1], [0], [0], [1], [1], [0], [1], [0], [1], [0], [1], [1], [0], [1], [1], [1], [0], [1], [1], [1], [0], [0], [0], [1], [0], [1], [0], [1], [0], [1], [0], [1], [0], [1], [0], [1], [0], [1], [1], [1], [0], [0], [1], [0], [0], [1], [1], [1], [1], [1], [0], [1], [1], [0], [1], [0], [1], [0], [0], [1], [1], [1], [1], [1], [0], [1], [0], [1], [0], [0], [1], [0], [1], [0], [0], [0], [1], [1], [0], [1], [0], [0], [1], [1], [1], [0], [1], [1], [1], [0], [1], [1], [0], [0], [0], [0], [1], [0], [1], [1], [1], [0], [0], [0], [0], [0], [0], [1], [1], [1], [0], [0], [0], [0], [1], [1], [0], [0], [0], [0], [1], [0], [0], [0], [0], [0], [0], [0], [0], [0], [1], [1], [1], [0], [0], [0], [1], [1], [0], [0], [1], [1], [0], [1], [0], [0], [0], [0], [0], [0], [0], [0], [0], [0], [0], [0], [1], [1], [0], [0], [1], [1], [1], [0], [1], [0], [1], [1], [0], [0], [1], [1], [0], [1], [0], [1], [0], [0], [0], [0], [1], [1], [1], [0], [0], [1], [1], [1], [0], [0], [1], [1], [1], [0], [0], [1], [1], [0], [0], [1], [1], [0], [1], [0], [0], [1], [0], [0], [1], [1], [0], [0], [0], [1], [1], [1], [1], [0], [1], [1], [0], [0], [1], [1], [1], [1], [0], [0], [0], [1], [0], [1], [1], [1], [0], [0], [0], [0], [1], [1], [1], [0], [0], [1], [0], [0], [0], [0], [1], [1], [1], [0], [0], [0], [1], [1], [1], [1], [0], [1], [0], [0], [1], [1], [1], [0], [1], [1], [0], [1], [1], [1], [1], [1], [1], [1], [0], [0], [0], [1], [0], [0], [1], [0], [1], [1], [0], [0], [0], [1], [0], [1], [0], [0], [0], [0], [1], [1], [1], [1], [0], [1], [1], [0], [1], [0], [0], [1], [1], [1], [1], [0], [0], [0], [1], [1], [0], [1], [0], [1], [1], [1], [0], [1], [0], [0], [1], [0], [1], [0], [0], [0], [0], [0], [1], [1], [0], [0], [0], [0], [1], [0], [0], [1], [1], [0], [0], [0], [1], [1], [1], [0], [1], [0], [0], [1], [0], [1], [1], [1], [0], [1], [0], [0], [0], [1], [1], [1], [1], [1], [1], [1], [1], [1], [0], [1], [1], [1], [1], [0], [0], [0], [0], [0], [0], [1], [1], [1], [1], [1], [0], [0], [1], [0], [1], [1], [0], [1], [0], [1], [0], [1], [0], [1], [0], [1], [1], [1], [1], [0], [0], [0], [1], [1], [1], [1], [1], [1], [0], [1], [1], [0], [1], [1], [1], [1], [1], [0], [1], [1], [1], [1], [1], [1], [1], [0], [1], [1], [1], [0], [0], [1], [1], [1], [1], [1], [1], [1], [0], [1], [1], [1], [1], [1], [0], [1], [0], [1], [0], [0], [1], [1], [1], [0], [1], [1], [0], [0], [1], [0], [1], [1], [0], [1], [1], [0], [0], [1], [0], [0], [1], [1], [1], [1], [1], [1], [1], [0], [1], [1], [0], [1], [1], [0], [0], [0], [0], [0], [0], [0], [0], [1], [1], [0], [1], [0], [0], [1], [0], [1], [1], [0], [0], [1], [1], [0], [0], [1], [1], [1], [0], [0], [1], [0], [0], [0], [1], [0], [1], [1], [1], [0], [0], [1], [0], [0], [0], [1], [1], [0], [1], [1], [0], [0], [1], [0], [0], [0], [1], [1], [1], [1], [0], [0], [0], [0], [0], [0], [0], [1], [1], [0], [0], [1], [0], [0], [0], [0], [1], [1], [1], [0], [0], [0], [1], [1], [1], [0], [0], [1], [1], [0], [0], [0], [1], [1], [0], [0], [0], [1], [0], [0], [0], [1], [0], [0], [0], [0], [0], [0], [1], [1], [0], [1], [1], [1], [0], [0], [1], [1], [1], [0], [1], [1], [0], [0], [1], [1], [1], [0], [0], [1], [1], [1], [1], [0], [1], [0], [0], [1], [1], [0], [0], [0], [1], [1], [0], [0], [0], [1], [1], [1], [1], [0], [1], [1], [1], [0], [1], [1], [0], [0], [1], [0], [1], [1], [0], [1], [1], [0], [1], [1], [0], [0], [0], [1], [0], [0], [0], [1], [1], [0], [0], [0], [0], [1], [1], [1], [0], [1], [1], [0], [0], [0], [1], [1], [0], [0], [0], [1], [0], [0], [0], [0], [0], [0], [0], [0], [1], [0], [0], [0], [1], [0], [0], [0], [1], [1], [1], [0], [1], [0], [0], [1], [1], [1], [0], [1], [0], [0], [1], [0], [0], [1], [0], [1], [0], [1], [0], [1], [1], [0], [1], [0], [0], [1], [0], [1], [1], [1], [0], [0], [1], [0], [0], [1], [1], [0], [1], [0], [1], [1], [1], [1], [0], [0], [0], [0], [0], [0], [0], [1], [0], [0], [1], [0], [0], [0], [0], [1], [1], [1], [1], [1], [1], [1], [1], [1], [0], [0], [0], [0], [0], [0], [1], [1], [0], [0], [1], [1], [0], [1], [1], [0], [1], [0], [0], [1], [0], [0], [0], [0], [0], [1], [0], [0], [1], [1], [0], [0], [1], [1], [1], [0], [1], [0], [0], [0], [1], [0], [1], [0], [0], [0], [0], [1], [0], [0], [1], [1], [0], [1], [1], [0], [0], [1], [1], [0], [1], [1], [0], [1], [1], [1], [1], [0], [0], [0], [1], [1], [0], [0], [0], [1], [0], [0], [1], [0], [0], [1], [1], [1], [1], [1], [0], [0], [0], [0], [0], [0], [0], [0], [0], [0], [1], [0], [0], [1], [1], [1], [0], [1], [1], [1], [0], [0], [1], [1], [1], [0], [0], [1], [0], [0], [0], [1], [1], [0], [1], [1], [0], [1], [0], [0], [0], [1], [1], [1], [1], [1], [0], [0], [0], [0], [1], [0], [1], [1], [0], [1], [1], [1], [0], [0], [1], [1], [1], [1], [1], [0], [0], [1], [1], [0], [1], [0], [0], [0], [0], [0], [0], [0], [1], [0], [0], [0], [1], [1], [1], [0], [0], [0], [1], [1], [1], [0], [1], [0], [0], [1], [1], [1], [0], [1], [0], [1], [0], [0], [0], [0], [1], [1], [1], [0], [0], [1], [1], [0], [0], [1], [1], [1], [1], [1], [1], [0], [0], [1], [1], [1], [1], [0], [0], [1], [0], [0], [0], [1], [0], [0], [1], [1], [1], [0], [0], [0], [1], [1], [0], [0], [1], [0], [1], [1], [1], [0], [0], [1], [1], [1], [0], [0], [1], [0], [1], [0], [0], [0], [1], [0], [1], [1], [0], [0], [0], [0], [0], [0], [1], [0], [0], [1], [1], [0], [0], [1], [1], [0], [0], [1], [0], [0], [0], [1], [1], [0], [1], [0], [1], [1], [1], [0], [0], [0], [0], [0], [0], [1], [1], [0], [0], [1], [0], [1], [0], [0], [1], [1], [1], [1], [1], [0], [1], [0], [1], [0], [0], [0], [0], [0], [0], [1], [1], [1], [1], [0], [1], [0], [0], [0], [1], [1], [1], [0], [1], [0], [0], [1], [1], [0], [1], [0], [1], [0], [0], [1], [1], [1], [1], [1], [0], [0], [0], [0], [1], [1], [0], [1], [0], [0], [0], [1], [0], [0], [0], [0], [0], [0], [1], [0], [0], [1], [0], [0], [1], [0], [1], [1], [0], [0], [0], [1], [0], [1], [1], [1], [0], [0], [0], [0], [0], [0], [0], [0], [1], [1], [0], [1], [1], [0], [1], [1], [1], [0], [0], [1], [1], [1], [1], [1], [1], [0], [0], [0], [1], [1], [0], [0], [0], [0], [1], [1], [1], [0], [0], [0], [1], [0], [0], [0], [0], [1], [1], [0], [0], [0], [0], [1], [0], [0], [1], [0], [0], [1], [1], [1], [0], [1], [1], [0], [1], [0], [1], [0], [0], [1], [1], [0], [0], [0], [0], [0], [0], [0], [0], [1], [0], [1], [1], [1], [1], [1], [1], [1], [1], [1], [1], [1], [0], [0], [1], [0], [1], [0], [0], [0], [0], [1], [1], [1], [0], [0], [0], [0], [1], [0], [1], [1], [1], [1], [1], [0], [1], [1], [1], [1], [1], [0], [1], [1], [1], [0], [1], [1], [0], [0], [0], [1], [0], [0], [0], [1], [0], [0], [1], [1], [0], [1], [0], [1], [0], [1], [1], [0], [1], [0], [0], [0], [0], [0], [0], [0], [1], [0], [0], [1], [1], [1], [0], [1], [1], [1], [0], [1], [1], [0], [1], [1], [1], [0], [1], [0], [1], [0], [0], [0], [1], [1], [1], [0], [1], [0], [1], [1], [0], [1], [0], [0], [0], [0], [1], [1], [1], [1], [1], [1], [0], [1], [0], [0], [1], [0], [1], [0], [0], [0], [1], [0], [1], [1], [0], [0], [1], [1], [0], [0], [1], [0], [1], [1], [0], [0], [0], [1], [0], [0], [1], [1], [0], [1], [0], [0], [1], [0], [1], [1], [1], [0], [0], [0], [1], [0], [1], [0], [0], [1], [1], [0], [1], [1], [1], [0], [0], [1], [0], [0], [1], [1], [1], [1], [1], [0], [1], [0], [0], [1], [0], [0], [0], [1], [1], [0], [1], [1], [1], [1], [0], [1], [1], [1], [1], [0], [1], [1], [1], [1], [1], [1], [0], [0], [0], [1], [0], [1], [0], [1], [0], [0], [0], [1], [1], [1], [0], [1], [0], [0], [0], [1], [1], [0], [0], [1], [0], [0], [0], [1], [1], [1], [0], [0], [1], [1], [1], [1], [1], [0], [0], [1], [1], [1], [1], [0], [1], [1], [1], [1], [1], [0], [1], [1], [1], [0], [1], [1], [0], [0], [1], [0], [0], [1], [0], [1], [1], [0], [0], [1], [1], [1], [0], [1], [1], [0], [0], [1], [0], [1], [0], [1], [1], [1], [0], [1], [0], [1], [0], [1], [0], [1], [1], [0], [1], [0], [0], [1], [0], [0], [0], [1], [0], [0], [1], [1], [1], [0], [0], [0], [1], [0], [0], [1], [1], [0], [0], [1], [1], [0], [1], [1], [0], [1], [1], [1], [0], [1], [1], [0], [0], [0], [1], [1], [0], [1], [0], [1], [1], [0], [1], [0], [0], [0], [1], [0], [0], [1], [0], [0], [0], [0], [1], [0], [0], [0], [1], [0], [0], [1], [1], [0], [0], [1], [0], [1], [1], [0], [0], [1], [0], [0], [1], [1], [1], [0], [1], [1], [1], [1], [0], [0], [1], [0], [1], [1], [0], [1], [1], [1], [1], [0], [1], [1], [1], [1], [0], [0], [1], [1], [1], [0], [0], [0], [0], [1], [1], [0], [1], [1], [0], [0], [0], [1], [1], [0], [1], [0], [0], [1], [0], [1], [0], [0], [1], [1], [1], [1], [0], [1], [0], [1], [0], [1], [1], [0], [0], [0], [0], [1], [0], [1], [0], [1], [1], [1], [0], [1], [0], [1], [0], [1], [1], [1], [1], [0], [1], [0], [1], [1], [1], [1], [1], [0], [0], [1], [0], [1], [0], [1], [1], [0], [1], [0], [0], [0], [0], [1], [1], [0], [0], [1], [0], [0], [0], [0], [0], [0], [1], [1], [0], [1], [1], [0], [1], [1], [0], [0], [0], [1], [1], [0], [0], [0], [0], [0], [0], [0], [1], [0], [1], [0], [1], [1], [0], [1], [0], [1], [1], [1], [1], [0], [0], [0], [1], [1], [1], [1], [0], [0], [1], [1], [1], [1], [1], [1], [0], [1], [1], [0], [1], [0], [0], [1], [1], [1], [0], [1], [1], [1], [1], [0], [0], [1], [1], [1], [0], [0], [0], [1], [1], [0], [1], [0], [0], [0], [0], [0], [0], [0], [0], [0], [1], [1], [0], [1], [1], [0], [1], [1], [0], [1], [0], [1], [1], [1], [0], [0], [0], [0], [1], [0], [0], [1], [0], [1], [0], [0], [1], [0], [1], [1], [0], [0], [0], [0], [1], [1], [0], [0], [0], [1], [1], [0], [1], [1], [1], [0], [1], [1], [0], [1], [0], [0], [1], [0], [1], [1], [1], [1], [1], [0], [0], [0], [0], [1], [1], [1], [0], [1], [1], [0], [1], [0], [0], [0], [1], [1], [0], [1], [0], [0], [1], [0], [0], [1], [0], [0], [0], [1], [1], [1], [1], [1], [1], [0], [1], [1], [0], [0], [0], [1], [0], [1], [1], [0], [1], [0], [1], [1], [1], [1], [1], [1], [1], [0], [0], [1], [0], [0], [0], [1], [0], [1], [0], [1], [0], [0], [1], [1], [1], [1], [0], [1], [0], [0], [1], [1], [0], [1], [0], [1], [0], [0], [1], [1], [0], [0], [1], [0], [1], [0], [1], [1], [1], [1], [1], [0], [1], [0], [0], [1], [1], [0], [0], [1], [1], [1], [1], [0], [1], [1], [0], [1], [0], [1], [0], [1], [1], [1], [0], [1], [1], [1], [1], [0], [1], [1], [1], [1], [1], [0], [0], [0], [0], [1], [1], [0], [1], [1], [1], [0], [0], [1], [0], [1], [0], [1], [0], [1], [1], [0], [0], [1], [1], [0], [0], [1], [1], [1], [0], [0], [1], [1], [0], [1], [1], [1], [1], [0], [0], [0], [1], [0], [0], [0], [1], [0], [1], [1], [1], [0], [1], [1], [1], [0], [0], [0], [1], [1], [1], [0], [0], [0], [0], [1], [1], [1], [1], [1], [1], [0], [0], [1], [0], [1], [0], [0], [0], [1], [1], [1], [1], [1], [0], [1], [0], [0], [0], [0], [1], [1], [1], [0], [0], [1], [0], [1], [1], [1], [0], [0], [0], [1], [1], [0], [0], [1], [0], [0], [1], [1], [1], [1], [1], [1], [1], [0], [0], [0], [1], [0], [1], [0], [1], [0], [0], [1], [1], [1], [0], [1], [1], [0], [1], [1], [0], [0], [1], [1], [0], [1], [1], [0], [1], [1], [1], [0], [0], [1], [0], [0], [0], [0], [0], [1], [0], [1], [0], [1], [1], [0], [1], [0], [0], [0], [0], [1], [1], [0], [0], [1], [0], [1], [1], [1], [1], [0], [1], [0], [0], [1], [0], [0], [1], [0], [0], [0], [0], [1], [0], [0], [0], [0], [1], [1], [0], [0], [0], [1], [0], [1], [1], [1], [1], [1], [0], [0], [1], [1], [1], [0], [1], [0], [1], [0], [1], [1], [1], [1], [0], [1], [0], [0], [0], [0], [0], [1], [0], [1], [1], [1], [0], [1], [1], [0], [0], [1], [1], [0], [1], [1], [1], [0], [1], [1], [1], [0], [0], [0], [0], [1], [0], [1], [0], [0], [1], [0], [0], [0], [1], [0], [1], [1], [1], [1], [0], [0], [1], [1], [1], [0], [0], [0], [0], [0], [0], [1], [1], [0], [0], [1], [1], [1], [1], [0], [0], [0], [0], [0], [1], [0], [1], [0], [1], [1], [1], [0], [0], [1], [1], [0], [1], [0], [1], [0], [0], [1], [1], [1], [0], [0], [0], [1], [0], [1], [1], [1], [1], [0], [0], [1], [1], [0], [0], [1], [0], [1], [0], [1], [0], [1], [1], [0], [0], [0], [0], [0], [0], [1], [0], [1], [0], [1], [0], [1], [1], [0], [1], [1], [1], [0], [1], [0], [0], [0], [0], [1], [1], [1], [1], [1], [1], [1], [0], [0], [1], [0], [0], [1], [0], [1], [1], [1], [1], [0], [0], [0], [1], [1], [1], [1], [0], [1], [0], [1], [1], [1], [0], [1], [1], [0], [0], [1], [1], [0], [0], [1], [0], [0], [0], [1], [1], [0], [1], [0], [0], [0], [0], [0], [0], [0], [1], [1], [0], [0], [1], [0], [1], [0], [1], [1], [0], [1], [1], [1], [1], [0], [1], [1], [1], [0], [1], [1], [0], [0], [1], [1], [1], [0], [0], [1], [1], [1], [0], [0], [0], [1], [1], [0], [1], [1], [0], [0], [0], [1], [1], [1], [1], [1], [1], [0], [0], [0], [0], [1], [0], [0], [0], [1], [0], [1], [1], [1], [1], [1], [0], [1], [0], [1], [0], [1], [1], [1], [0], [1], [1], [1], [0], [1], [0], [0], [0], [0], [1], [0], [0], [1], [1], [1], [1], [0], [0], [1], [1], [0], [0], [1], [1], [1], [1], [1], [1], [1], [1], [1], [1], [0], [1], [1], [1], [0], [0], [1], [1], [1], [1], [1], [0], [1], [1], [1], [1], [0], [1], [1], [1], [0], [0], [0], [1], [0], [1], [1], [1], [1], [0], [0], [1], [0], [1], [1], [1], [1], [0], [0], [0], [0], [0], [0], [0], [1], [0], [0], [1], [0], [0], [1], [0], [1], [0], [0], [1], [0], [0], [0], [0], [1], [1], [1], [1], [1], [1], [0], [0], [1], [1], [1], [1], [1], [0], [1], [0], [0], [0], [0], [1], [0], [0], [1], [1], [1], [0], [0], [0], [1], [1], [0], [1], [0], [0], [1], [1], [0], [1], [0], [1], [1], [0], [1], [1], [0], [1], [1], [1], [0], [1], [1], [0], [0], [0], [0], [1], [0], [0], [1], [1], [0], [0], [1], [0], [0], [1], [0], [0], [1], [0], [0], [1], [1], [1], [1], [0], [0], [0], [1], [1], [0], [0], [0], [0], [1], [0], [1], [1], [0], [1], [0], [1], [0], [0], [0], [0], [1], [1], [1], [1], [1], [0], [1], [0], [0], [1], [0], [0], [1], [1], [0], [1], [1], [1], [0], [0], [0], [1], [1], [0], [0], [1], [1], [0], [1], [0], [1], [0], [1], [0], [1], [1], [0], [0], [1], [1], [1], [0], [1], [0], [1], [0], [0], [1], [0], [0], [0], [1], [1], [1], [1], [1], [1], [0], [0], [0], [0], [1], [1], [1], [1], [1], [1], [1], [0], [1], [1], [0], [1], [0], [1], [0], [0], [0], [1], [1], [0], [0], [0], [0], [0], [1], [0], [0], [1], [1], [0], [1], [0], [1], [0], [0], [1], [1], [1], [0], [0], [1], [1], [1], [1], [1], [1], [0], [1], [1], [0], [1], [0], [0], [0], [1], [1], [0], [1], [0], [0], [0], [0], [0], [0], [0], [0], [1], [1], [0], [1], [0], [1], [1], [0], [0], [1], [0], [0], [0], [0], [1], [1], [1], [1], [0], [1], [1], [0], [0], [1], [1], [1], [0], [0], [0], [1], [0], [0], [0], [0], [1], [1], [1], [0], [1], [1], [0], [1], [1], [1], [1], [0], [0], [1], [0], [1], [0], [0], [0], [1], [0], [0], [0], [1], [1], [1], [1], [1], [0], [1], [1], [1], [0], [1], [1], [1], [1], [0], [0], [0], [0], [0], [0], [1], [0], [1], [1], [0], [0], [0], [1], [0], [0], [1], [1], [0], [1], [1], [0], [0], [1], [1], [0], [0], [0], [1], [0], [1], [1], [1], [0], [0], [1], [0], [1], [1], [0], [1], [1], [0], [0], [1], [0], [1], [0], [0], [0], [0], [0], [0], [0], [0], [0], [1], [0], [1], [1], [0], [1], [0], [0], [1], [1], [0], [1], [1], [1], [0], [0], [0], [1], [0], [0], [0], [0], [1], [1], [0], [0], [1], [1], [1], [1], [1], [0], [1], [1], [1], [1], [0], [1], [0], [1], [1], [1], [0], [0], [0], [0], [1], [1], [0], [1], [1], [1], [0], [1], [1], [0], [0], [1], [1], [0], [0], [0], [1], [1], [0], [0], [1], [0], [1], [1], [1], [0], [0], [1], [1], [1], [0], [0], [1], [1], [0], [0], [0], [1], [1], [0], [1], [0], [1], [1], [0], [0], [0], [0], [1], [0], [1], [0], [1], [1], [0], [0], [0], [0], [1], [0], [0], [1], [1], [1], [0], [0], [1], [1], [0], [0], [0], [1], [1], [0], [0], [1], [0], [1], [1], [0], [1], [0], [1], [0], [0], [0], [0], [1], [0], [1], [0], [1], [1], [1], [1], [1], [0], [1], [1], [1], [1], [1], [0], [1], [0], [1], [0], [1], [1], [1], [1], [1], [0], [0], [0], [0], [1], [0], [0], [1], [1], [0], [0], [0], [1], [0], [0], [0], [0], [0], [1], [0], [0], [0], [0], [0], [0], [0], [1], [1], [0], [0], [1], [1], [0], [1], [0], [1], [0], [1], [0], [1], [0], [1], [0], [0], [1], [0], [0], [0], [0], [0], [0], [0], [0], [0], [1], [1], [0], [0], [1], [0], [1], [0], [1], [0], [1], [0], [0], [1], [0], [1], [0], [1], [0], [1], [1], [0], [1], [0], [0], [1], [0], [0], [0], [0], [0], [1], [1], [0], [1], [0], [1], [0], [1], [1], [1], [0], [1], [1], [1], [1], [0], [1], [1], [1], [1], [0], [1], [0], [0], [0], [1], [1], [1], [0], [0], [1], [0], [1], [1], [1], [0], [1], [1], [0], [0], [1], [0], [1], [0], [0], [1], [1], [1], [0], [0], [1], [0], [1], [0], [0], [0], [0], [1], [0], [0], [0], [1], [0], [0], [0], [1], [0], [0], [0], [1], [1], [0], [1], [0], [1], [1], [1], [0], [0], [1], [1], [0], [0], [0], [1], [0], [0], [1], [0], [0], [0], [1], [1], [1], [0], [1], [0], [1], [1], [0], [0], [1], [1], [0], [1], [0], [1], [0], [1], [1], [0], [0], [1], [1], [0], [0], [0], [1], [1], [0], [0], [1], [1], [1], [0], [1], [1], [1], [0], [1], [1], [1], [1], [0], [0], [1], [1], [0], [1], [0], [0], [0], [0], [0], [1], [1], [0], [0], [0], [0], [1], [1], [1], [1], [1], [0], [1], [0], [1], [1], [1], [1], [0], [0], [0], [1], [0], [1], [0], [0], [0], [1], [0], [1], [1], [0], [0], [0], [0], [1], [1], [1], [0], [0], [0], [0], [1], [0], [0], [1], [1], [1], [1], [1], [1], [0], [1], [0], [0], [0], [0], [1], [0], [1], [1], [0], [0], [0], [1], [0], [0], [1], [0], [1], [1], [0], [1], [0], [0], [1], [1], [1], [0], [1], [1], [1], [0], [0], [0], [1], [0], [1], [1], [1], [0], [1], [0], [1], [1], [0], [1], [1], [1], [1], [1], [1], [1], [1], [0], [1], [1], [0], [1], [0], [0], [0], [0], [1], [0], [1], [1], [0], [1], [1], [1], [0], [0], [0], [1], [0], [1], [1], [0], [0], [1], [1], [1], [1], [0], [1], [0], [1], [1], [0], [0], [1], [0], [1], [0], [0], [1], [1], [0], [0], [0], [0], [0], [0], [0], [1], [1], [0], [1], [0], [1], [1], [1], [1], [1], [1], [1], [1], [1], [1], [1], [1], [0], [1], [0], [0], [1], [0], [0], [1], [1], [0], [0], [0], [0], [0], [0], [1], [0], [0], [1], [1], [1], [0], [0], [0], [0], [0], [0], [0], [1], [1], [1], [1], [1], [0], [1], [1], [1], [1], [0], [0], [0], [1], [1], [0], [1], [1], [0], [0], [0], [1], [0], [1], [0], [0], [0], [1], [1], [1], [1], [1], [1], [0], [0], [1], [1], [1], [0], [1], [1], [0], [1], [0], [0], [0], [1], [1], [1], [0], [1], [0], [1], [1], [0], [0], [0], [1], [1], [0], [1], [0], [1], [1], [0], [0], [0], [1], [0], [0], [0], [0], [1], [1], [1], [0], [0], [1], [1], [0], [1], [1], [1], [1], [1], [1], [1], [1], [1], [0], [0], [0], [0], [0], [1], [0], [1], [0], [1], [1], [1], [1], [0], [0], [0], [0], [0], [1], [0], [1], [1], [0], [0], [0], [0], [0], [1], [0], [1], [1], [1], [1], [0], [0], [1], [0], [0], [0], [0], [0], [0], [1], [0], [0], [1], [0], [0], [0], [0], [1], [0], [1], [0], [0], [0], [0], [1], [1], [1], [0], [0], [0], [1], [1], [0], [1], [1], [0], [1], [0], [1], [0], [0], [1], [1], [1], [0], [0], [0], [0], [0], [0], [1], [1], [0], [1], [1], [0], [0], [1], [0], [0], [0], [0], [1], [1], [1], [1], [1], [0], [0], [0], [1], [0], [0], [1], [0], [0], [1], [1], [1], [0], [1], [0], [1], [0], [1], [0], [0], [1], [1], [1], [1], [1], [1], [1], [1], [1], [0], [1], [1], [0], [0], [0], [0], [1], [1], [0], [1], [0], [1], [0], [0], [1], [1], [0], [1], [1], [0], [0], [1], [1], [1], [1], [1], [0], [0], [1], [0], [1], [1], [0], [0], [1], [0], [0], [1], [1], [1], [0], [1], [1], [0], [0], [1], [1], [0], [1], [1], [1], [0], [1], [0], [1], [1], [1], [1], [0], [0], [1], [1], [0], [0], [1], [1], [1], [0], [1], [1], [1], [1], [0], [0], [1], [1], [1], [1], [0], [0], [0], [1], [1], [0], [0], [0], [0], [1], [0], [1], [0], [0], [1], [0], [1], [0], [0], [0], [0], [0], [1], [1], [0], [0], [1], [1], [0], [1], [0], [1], [0], [0], [1], [0], [0], [1], [1], [1], [0], [1], [0], [1], [1], [1], [1], [1], [0], [1], [1], [0], [0], [1], [0], [1], [0], [0], [1], [0], [0], [1], [0], [0], [1], [1], [0], [1], [0], [1], [0], [0], [0], [0], [1], [0], [0], [0], [0], [1], [0], [1], [0], [1], [0], [1], [0], [0], [0], [1], [0], [1], [1], [0], [0], [0], [0], [0], [1], [0], [0], [1], [0], [0], [0], [0], [1], [1], [0], [0], [0], [1], [1], [1], [0], [1], [1], [1], [1], [0], [0], [1], [1], [0], [0], [1], [0], [1], [0], [0], [0], [0], [1], [0], [1], [0], [1], [1], [1], [1], [1], [1], [0], [0], [0], [0], [1], [0], [0], [1], [0], [1], [0], [0], [1], [0], [0], [0], [0], [0], [1], [0], [0], [0], [0], [1], [0], [0], [0], [0], [1], [0], [1], [0], [0], [0], [0], [0], [0], [1], [0], [1], [1], [1], [1], [0], [1], [1], [0], [1], [1], [0], [0], [0], [0], [1], [1], [1], [0], [0], [1], [0], [1], [0], [0], [1], [1], [0], [0], [1], [0], [1], [0], [1], [1], [1], [1], [0], [1], [1], [1], [1], [1], [1], [1], [1], [1], [0], [1], [1], [1], [1], [1], [1], [0], [1], [0], [1], [0], [1], [1], [0], [1], [1], [1], [1], [0], [1], [0], [1], [1], [0], [1], [1], [0], [1], [1], [1], [1], [1], [0], [1], [1], [0], [0], [1], [1], [0], [1], [0], [0], [1], [0], [0], [0], [0], [0], [0], [0], [0], [0], [1], [0], [0], [0], [1], [1], [1], [0], [0], [0], [0], [0], [0], [0], [1], [0], [1], [1], [0], [0], [1], [1], [1], [1], [0], [0], [1], [0], [1], [1], [0], [0], [0], [0], [1], [1], [0], [0], [1], [1], [0], [1], [0], [0], [0], [0], [1], [1], [1], [1], [1], [0], [1], [1], [0], [1], [0], [0], [1], [1], [1], [0], [1], [0], [1], [0], [0], [0], [0], [0], [0], [1], [1], [0], [0], [1], [0], [0], [0], [0], [1], [1], [0], [0], [0], [1], [0], [0], [0], [1], [0], [0], [0], [1], [1], [1], [0], [0], [0], [1], [0], [1], [1], [0], [1], [0], [1], [1], [1], [1], [0], [1], [1], [1], [0], [0], [1], [0], [1], [1], [1], [0], [1], [0], [0], [0], [0], [0], [1], [1], [0], [1], [1], [0], [0], [1], [0], [1], [0], [0], [0], [0], [0], [0], [1], [0], [0], [1], [0], [1], [0], [0], [0], [1], [1], [0], [0], [1], [0], [1], [1], [1], [0], [1], [1], [1], [0], [0], [1], [1], [0], [1], [0], [1], [0], [1], [0], [0], [0], [0], [1], [1], [0], [0], [0], [1], [0], [1], [1], [0], [1], [1], [1], [0], [1], [1], [1], [1], [1], [0], [1], [1], [0], [1], [0], [1], [0], [1], [0], [0], [0], [1], [1], [0], [1], [0], [1], [0], [0], [1], [1], [1], [0], [1], [1], [1], [1], [0], [0], [1], [1], [0], [0], [0], [0], [1], [0], [0], [1], [0], [1], [0], [0], [1], [1], [0], [1], [1], [0], [1], [0], [1], [1], [1], [0], [0], [0], [0], [0], [0], [1], [0], [0], [1], [1], [1], [0], [1], [1], [0], [1], [1], [1], [1], [1], [1], [0], [1], [1], [1], [0], [1], [1], [1], [0], [0], [0], [0], [1], [1], [1], [0], [1], [0], [0], [1], [0], [0], [1], [1], [1], [1], [1], [1], [1], [1], [1], [0], [1], [0], [0], [1], [1], [0], [0], [1], [1], [1], [0], [1], [0], [0], [0], [0], [0], [1], [0], [1], [0], [1], [1], [0], [1], [0], [1], [1], [0], [0], [0], [1], [0], [0], [1], [0], [0], [1], [0], [0], [0], [1], [1], [1], [1], [0], [1], [0], [1], [0], [1], [1], [0], [0], [0], [0], [0], [1], [1], [0], [1], [1], [0], [0], [1], [0], [1], [1], [1], [0], [0], [0], [1], [0], [1], [0], [1], [1], [1], [1], [1], [1], [0], [1], [1], [1], [1], [1], [1], [0], [0], [0], [0], [1], [0], [1], [0], [1], [0], [1], [0], [1], [0], [0], [1], [1], [1], [0], [1], [0], [1], [0], [1], [0], [0], [0], [1], [1], [1], [1], [0], [1], [1], [0], [0], [0], [0], [0], [0], [1], [0], [1], [0], [1], [0], [0], [0], [1], [0], [1], [1], [1], [1], [1], [1], [0], [1], [1], [0], [0], [1], [1], [0], [0], [1], [0], [0], [0], [0], [0], [1], [1], [0], [0], [0], [0], [1], [0], [1], [1], [1], [1], [1], [1], [1], [0], [0], [1], [1], [0], [1], [0], [0], [1], [0], [1], [0], [0], [0], [1], [1], [1], [0], [0], [1], [1], [0], [0], [1], [0], [0], [1], [0], [1], [0], [0], [0], [0], [0], [1], [1], [0], [0], [1], [1], [0], [0], [1], [0], [1], [0], [0], [0], [0], [0], [1], [0], [1], [1], [1], [1], [0], [1], [0], [0], [1], [1], [0], [0], [1], [0], [0], [0], [0], [0], [0], [0], [0], [1], [0], [1], [0], [0], [0], [1], [0], [1], [0], [0], [1], [0], [0], [1], [1], [0], [0], [1], [0], [1], [0], [0], [0], [0], [1], [0], [1], [0], [0], [1], [0], [0], [0], [1], [1], [0], [1], [0], [0], [1], [1], [1], [0], [0], [0], [0], [1], [0], [0], [1], [1], [1], [0], [1], [1], [1], [0], [1], [0], [1], [0], [1], [0], [0], [1], [1], [1], [1], [0], [1], [0], [0], [0], [1], [0], [1], [0], [0], [0], [0], [0], [1], [0], [1], [1], [0], [1], [0], [0], [0], [1], [0], [1], [1], [0], [0], [0], [1], [0], [0], [0], [0], [1], [1], [0], [1], [1], [1], [0], [1], [0], [1], [0], [0], [0], [0], [1], [0], [0], [0], [0], [0], [1], [1], [0], [0], [0], [1], [1], [1], [0], [0], [1], [1], [1], [0], [0], [0], [1], [0], [0], [1], [1], [1], [1], [0], [1], [0], [0], [1], [1], [0], [1], [0], [0], [1], [0], [0], [1], [0], [1], [0], [1], [0], [1], [1], [1], [1], [0], [1], [1], [0], [0], [1], [1], [0], [1], [1], [1], [1], [1], [0], [0], [0], [0], [1], [1], [1], [1], [1], [0], [1], [0], [1], [1], [1], [0], [0], [1], [0], [0], [0], [1], [1], [1], [0], [0], [1], [0], [0], [0], [0], [1], [0], [0], [0], [0], [1], [1], [1], [0], [0], [1], [1], [0], [0], [1], [0], [0], [1], [1], [0], [1], [0], [1], [0], [0], [0], [1], [0], [1], [0], [1], [0], [1], [1], [0], [0], [1], [1], [0], [1], [0], [0], [0], [1], [1], [0], [1], [1], [1], [1], [0], [1], [1], [1], [1], [1], [1], [1], [0], [1], [1], [1], [1], [1], [0], [0], [1], [1], [1], [1], [0], [0], [0], [1], [0], [0], [0], [1], [0], [0], [0], [1], [1], [0], [0], [1], [0], [0], [0], [1], [1], [0], [1], [0], [0], [1], [0], [0], [1], [1], [1], [1], [1], [1], [0], [1], [0], [0], [0], [0], [0], [0], [0], [1], [0], [1], [0], [0], [0], [0], [1], [0], [0], [0], [1], [0], [1], [1], [0], [1], [1], [0], [1], [1], [0], [1], [1], [0], [1], [1], [1], [0], [0], [1], [1], [1], [0], [0], [1], [1], [0], [0], [0], [0], [1], [1], [0], [1], [0], [1], [0], [1], [0], [1], [0], [1], [0], [0], [0], [1], [0], [1], [1], [0], [0], [1], [1], [1], [0], [0], [1], [0], [0], [0], [1], [0], [0], [1], [1], [1], [0], [0], [0], [1], [1], [1], [1], [1], [1], [1], [1], [0], [1], [1], [0], [0], [0], [1], [0], [1], [0], [1], [1], [1], [0], [0], [1], [1], [1], [1], [1], [0], [1], [1], [1], [0], [0], [0], [1], [1], [1], [1], [1], [0], [0], [0], [0], [1], [0], [1], [1], [1], [1], [0], [1], [0], [0], [0], [0], [0], [0], [0], [0], [0], [1], [0], [1], [0], [0], [1], [0], [0], [1], [1], [0], [1], [0], [1], [0], [0], [1], [1], [0], [0], [0], [0], [1], [0], [0], [0], [1], [0], [0], [0], [0], [0], [1], [1], [1], [1], [0], [0], [0], [1], [0], [0], [1], [1], [0], [0], [1], [1], [1], [0], [1], [0], [0], [1], [1], [1], [0], [0], [1], [1], [1], [1], [1], [1], [0], [0], [0], [0], [0], [0], [1], [1], [0], [1], [0], [0], [0], [1], [1], [0], [1], [1], [0], [1], [0], [0], [0], [0], [1], [0], [0], [0], [0], [0], [0], [1], [0], [1], [1], [0], [0], [1], [1], [0], [0], [0], [0], [0], [0], [0], [0], [0], [1], [1], [0], [0], [1], [1], [0], [1], [0], [1], [1], [0], [1], [0], [0], [0], [1], [1], [0], [0], [0], [0], [1], [0], [1], [1], [0], [0], [0], [0], [1], [1], [1], [1], [0], [0], [0], [0], [0], [0], [1], [1], [1], [0], [0], [0], [1], [1], [1], [1], [0], [0], [0], [0], [0], [1], [0], [1], [0], [0], [1], [1], [1], [0], [0], [1], [0], [1], [0], [0], [0], [0], [1], [1], [0], [1], [1], [0], [1], [1], [0], [1], [1], [1], [0], [1], [1], [1], [0], [0], [1], [1], [0], [1], [1], [1], [1], [0], [1], [0], [0], [0], [0], [1], [0], [1], [1], [1], [0], [1], [1], [1], [1], [1], [1], [0], [1], [1], [1], [1], [0], [0], [0], [0], [0], [0], [0], [0], [0], [0], [1], [1], [1], [1], [0], [1], [1], [1], [1], [1], [0], [1], [1], [0], [0], [0], [1], [0], [0], [0], [1], [1], [0], [1], [0], [0], [0], [0], [0], [1], [0], [1], [1], [0], [0], [1], [1], [0], [0], [0], [1], [1], [1], [0], [1], [0], [0], [1], [0], [1], [1], [1], [1], [1], [1], [0], [1], [0], [0], [1], [1], [0], [0], [1], [1], [1], [0], [0], [0], [0], [1], [0], [0], [1], [0], [0], [1], [0], [1], [0], [0], [0], [1], [0], [0], [0], [0], [0], [1], [0], [0], [0], [1], [1], [0], [1], [0], [1], [1], [1], [1], [1], [0], [0], [0], [1], [0], [1], [1], [0], [1], [0], [0], [1], [0], [0], [0], [0], [1], [1], [0], [0], [1], [0], [0], [0], [1], [0], [1], [1], [1], [0], [1], [0], [1], [1], [0], [0], [0], [1], [0], [1], [0], [1], [0], [1], [0], [1], [0], [1], [0], [1], [1], [1], [1], [0], [1], [0], [0], [1], [1], [1], [1], [0], [0], [1], [1], [0], [0], [0], [0], [1], [0], [0], [0], [0], [1], [0], [1], [1], [0], [1], [0], [1], [1], [0], [0], [0], [1], [0], [1], [1], [1], [0], [0], [1], [0], [0], [1], [0], [1], [1], [1], [1], [1], [1], [1], [1], [1], [0], [0], [1], [0], [0], [0], [1], [0], [1], [0], [1], [1], [0], [0], [0], [1], [0], [0], [1], [1], [1], [0], [0], [0], [1], [1], [0], [0], [1], [1], [1], [0], [1], [0], [0], [0], [1], [1], [1], [0], [0], [0], [0], [0], [1], [0], [1], [1], [1], [1], [1], [1], [1], [1], [1], [0], [1], [0], [1], [0], [0], [1], [1], [1], [1], [0], [0], [1], [1], [1], [1], [1], [0], [0], [1], [1], [0], [0], [1], [1], [1], [1], [1], [0], [0], [0], [1], [1], [0], [0], [0], [1], [1], [0], [1], [0], [0], [1], [0], [1], [1], [0], [0], [1], [1], [1], [1], [0], [1], [1], [1], [0], [0], [0], [1], [1], [1], [0], [0], [1], [1], [0], [0], [1], [0], [1], [1], [1], [1], [1], [0], [0], [0], [1], [0], [0], [0], [1], [1], [1], [0], [0], [1], [1], [0], [1], [1], [1], [0], [1], [0], [1], [0], [0], [1], [0], [0], [0], [1], [1], [1], [0], [0], [1], [0], [1], [0], [0], [1], [1], [1], [0], [0], [0], [0], [0], [1], [1], [0], [0], [0], [1], [0], [0], [1], [0], [0], [0], [0], [0], [1], [1], [0], [1], [0], [0], [1], [0], [0], [0], [1], [1], [0], [0], [0], [1], [1], [0], [1], [0], [1], [1], [1], [0], [1], [0], [0], [1], [0], [0], [1], [1], [1], [1], [0], [0], [0], [1], [1], [0], [1], [1], [1], [0], [0], [1], [1], [1], [0], [1], [0], [1], [1], [1], [0], [1], [0], [0], [1], [0], [0], [0], [0], [1], [0], [0], [0], [0], [0], [1], [0], [1], [0], [0], [1], [1], [1], [1], [0], [1], [1], [0], [1], [1], [0], [1], [0], [1], [1], [1], [1], [0], [0], [0], [1], [0], [1], [0], [0], [0], [1], [1], [0], [1], [1], [0], [1], [0], [1], [0], [0], [0], [0], [0], [0], [1], [0], [1], [1], [0], [1], [0], [1], [1], [0], [1], [0], [0], [1], [0], [1], [1], [0], [0], [1], [0], [1], [1], [1], [1], [0], [1], [1], [1], [0], [0], [1], [0], [0], [0], [0], [0], [0], [1], [1], [1], [1], [1], [0], [0], [0], [1], [0], [0], [1], [1], [1], [0], [0], [1], [1], [1], [0], [0], [0], [0], [0], [0], [0], [1], [0], [1], [0], [1], [0], [0], [1], [1], [0], [0], [0], [1], [1], [1], [0], [0], [0], [0], [1], [1], [0], [1], [0], [1], [0], [0], [0], [1], [1], [0], [0], [1], [1], [0], [0], [0], [0], [0], [1], [1], [1], [0], [1], [0], [1], [1], [1], [1], [0], [1], [0], [1], [1], [0], [1], [1], [0], [0], [1], [0], [1], [0], [0], [1], [0], [0], [1], [1], [1], [0], [0], [0], [0], [1], [1], [0], [1], [1], [1], [0], [0], [0], [1], [0], [1], [1], [1], [1], [0], [0], [0], [1], [0], [1], [0], [0], [1], [1], [0], [0], [1], [1], [1], [1], [1], [0], [1], [0], [1], [1], [1], [1], [1], [1], [1], [0], [0], [1], [0], [1], [0], [1], [0], [0], [1], [1], [0], [0], [1], [0], [0], [0], [0], [0], [1], [1], [1], [0], [1], [0], [0], [1], [0], [0], [1], [0], [1], [0], [1], [0], [1], [1], [0], [0], [1], [1], [0], [0], [0], [0], [1], [0], [1], [0], [0], [1], [0], [1], [0], [0], [0], [1], [1], [1], [0], [0], [1], [0], [1], [1], [0], [1], [0], [1], [1], [0], [0], [1], [1], [1], [0], [1], [0], [0], [0], [1], [1], [1], [1], [0], [1], [0], [1], [1], [1], [0], [1], [1], [0], [1], [1], [1], [0], [0], [1], [0], [0], [0], [1], [1], [1], [0], [0], [0], [0], [1], [1], [1], [0], [1], [1], [0], [1], [1], [0], [0], [0], [1], [0], [0], [1], [1], [0], [1], [0], [0], [1], [1], [1], [1], [1], [0], [1], [1], [0], [1], [1], [0], [0], [1], [0], [1], [0], [0], [1], [1], [0], [0], [1], [0], [0], [0], [1], [0], [0], [1], [1], [1], [0], [0], [0], [0], [1], [1], [0], [0], [0], [1], [0], [1], [1], [0], [0], [0], [1], [1], [0], [0], [0], [1], [0], [0], [1], [0], [0], [1], [0], [1], [0], [1], [1], [1], [1], [1], [1], [1], [0], [0], [1], [0], [0], [0], [1], [1], [1], [0], [1], [0], [0], [1], [1], [1], [1], [0], [1], [1], [1], [1], [0], [1], [0], [0], [1], [0], [1], [1], [1], [0], [1], [1], [0], [1], [0], [0], [1], [1], [1], [0], [0], [0], [1], [0], [0], [0], [1], [1], [0], [1], [0], [0], [0], [1], [1], [0], [1], [0], [1], [0], [0], [1], [1], [1], [1], [0], [0], [0], [1], [0], [1], [0], [0], [1], [1], [0], [0], [0], [1], [0], [1], [0], [0], [1], [1], [1], [1], [1], [1], [0], [1], [1], [1], [1], [1], [1], [1], [1], [0], [0], [0], [0], [0], [1], [1], [1], [1], [0], [1], [1], [0], [0], [1], [1], [0], [1], [0], [1], [1], [0], [1], [1], [0], [0], [1], [0], [1], [1], [0], [0], [0], [1], [0], [1], [0], [1], [1], [0], [0], [1], [0], [0], [0], [1], [1], [0], [0], [1], [1], [1], [0], [0], [1], [1], [1], [1], [0], [1], [0], [0], [1], [0], [0], [0], [1], [0], [0], [1], [1], [0], [0], [0], [0], [0], [0], [1], [1], [1], [0], [1], [1], [0], [1], [1], [0], [0], [1], [0], [1], [0], [1], [1], [1], [1], [1], [1], [1], [0], [0], [0], [1], [1], [1], [1], [1], [0], [1], [1], [1], [1], [0], [1], [1], [0], [0], [1], [1], [0], [0], [0], [0], [0], [1], [0], [1], [0], [1], [1], [0], [1], [0], [0], [1], [0], [0], [1], [0], [1], [1], [1], [1], [1], [0], [1], [0], [1], [1], [0], [1], [0], [0], [0], [1], [1], [0], [1], [1], [1], [1], [1], [1], [1], [0], [1], [0], [1], [0], [0], [0], [1], [1], [1], [0], [1], [1], [1], [1], [1], [0], [1], [0], [0], [0], [1], [0], [1], [0], [0], [0], [0], [0], [1], [0], [1], [1], [0], [1], [1], [0], [1], [1], [1], [0], [1], [0], [1], [0], [0], [1], [0], [1], [0], [0], [0], [0], [0], [1], [0], [0], [1], [0], [1], [0], [1], [0], [0], [1], [1], [0], [0], [1], [1], [0], [1], [1], [0], [1], [1], [1], [1], [1], [0], [0], [0], [0], [1], [1], [1], [1], [0], [1], [0], [1], [1], [0], [1], [0], [0], [0], [0], [1], [0], [1], [1], [1], [0], [1], [0], [0], [1], [0], [0], [1], [0], [0], [1], [1], [1], [1], [0], [1], [1], [1], [1], [0], [1], [0], [0], [1], [0], [1], [1], [0], [0], [0], [1], [1], [0], [0], [0], [1], [1], [1], [1], [1], [1], [0], [1], [0], [0], [0], [0], [0], [1], [1], [1], [1], [1], [1], [0], [0], [1], [1], [0], [1], [0], [0], [1], [1], [1], [0], [1], [0], [0], [1], [1], [0], [1], [0], [0], [0], [1], [0], [0], [1], [1], [0], [1], [0], [0], [0], [0], [1], [0], [1], [1], [1], [1], [0], [0], [0], [0], [0], [0], [0], [0], [0], [1], [0], [0], [1], [1], [0], [0], [0], [1], [1], [1], [0], [0], [1], [0], [0], [1], [1], [0], [1], [0], [0], [0], [0], [1], [0], [1], [0], [1], [1], [0], [0], [1], [0], [1], [1], [1], [0], [1], [0], [0], [0], [0], [0], [0], [0], [1], [1], [1], [0], [1], [0], [1], [0], [0], [1], [1], [0], [1], [0], [0], [0], [0], [0], [1], [1], [1], [0], [1], [1], [1], [0], [1], [0], [1], [0], [1], [1], [1], [0], [0], [0], [1], [1], [0], [1], [1], [1], [1], [0], [0], [1], [0], [0], [1], [1], [1], [0], [1], [0], [1], [0], [1], [1], [1], [1], [0], [0], [0], [0], [1], [1], [0], [0], [0], [0], [0], [1], [1], [0], [1], [0], [1], [0], [0], [0], [0], [1], [0], [0], [0], [0], [1], [1], [0], [1], [0], [1], [0], [1], [1], [0], [0], [0], [0], [1], [1], [1], [1], [0], [0], [1], [1], [1], [1], [0], [0], [1], [1], [0], [1], [0], [0], [0], [1], [1], [0], [0], [0], [1], [0], [0], [0], [1], [1], [1], [1], [0], [1], [1], [1], [1], [1], [1], [1], [0], [1], [0], [0], [1], [1], [1], [0], [0], [1], [0], [1], [0], [0], [1], [1], [1], [1], [1], [1], [0], [1], [0], [1], [1], [0], [0], [1], [1], [0], [0], [0], [1], [1], [0], [1], [0], [1], [1], [0], [1], [0], [0], [1], [0], [1], [0], [0], [1], [0], [1], [1], [1], [1], [1], [0], [0], [0], [0], [1], [0], [0], [0], [0], [1], [0], [0], [0], [0], [1], [0], [1], [0], [0], [1], [1], [0], [0], [1], [0], [1], [1], [1], [1], [1], [0], [1], [0], [1], [0], [0], [0], [0], [0], [1], [0], [1], [0], [1], [0], [1], [1], [0], [1], [1], [1], [1], [1], [1], [0], [0], [1], [0], [1], [0], [0], [0], [1], [0], [1], [1], [1], [0], [1], [1], [0], [1], [1], [1], [1], [1], [0], [1], [1], [1], [0], [1], [0], [1], [1], [1], [1], [1], [1], [0], [1], [0], [1], [0], [0], [1], [0], [0], [0], [0], [1], [0], [1], [0], [1], [1], [0], [1], [1], [1], [0], [1], [0], [0], [0], [1], [1], [1], [1], [0], [0], [0], [1], [1], [1], [1], [1], [0], [1], [0], [1], [1], [0], [0], [0], [0], [1], [0], [0], [1], [1], [1], [0], [0], [1], [1], [1], [0], [1], [1], [0], [0], [0], [0], [1], [1], [1], [0], [0], [0], [1], [1], [1], [0], [0], [0], [0], [1], [0], [0], [0], [0], [0], [0], [0], [0], [0], [0], [0], [0], [1], [0], [1], [1], [1], [1], [0], [0], [0], [1], [1], [0], [1], [0], [1], [1], [1], [1], [1], [0], [1], [0], [0], [0], [1], [1], [0], [1], [0], [0], [0], [0], [0], [0], [1], [1], [0], [0], [0], [1], [1], [0], [0], [0], [0], [0], [1], [0], [0], [0], [0], [0], [1], [1], [1], [1], [1], [1], [1], [0], [1], [0], [1], [0], [0], [0], [1], [1], [1], [1], [0], [0], [0], [0], [1], [1], [1], [1], [1], [0], [1], [0], [0], [1], [1], [0], [0], [1], [0], [0], [0], [0], [1], [0], [0], [0], [0], [1], [1], [0], [1], [1], [1], [0], [1], [0], [1], [0], [1], [1], [0], [1], [0], [1], [1], [0], [0], [1], [1], [1], [0], [0], [0], [0], [0], [0], [1], [1], [1], [1], [0], [0], [1], [1], [0], [1], [1], [1], [0], [1], [1], [0], [1], [0], [1], [1], [1], [0], [0], [0], [0], [1], [0], [0], [0], [1], [0], [1], [1], [1], [1], [1], [0], [1], [1], [1], [0], [1], [1], [1], [0], [0], [1], [1], [1], [0], [1], [1], [1], [0], [0], [1], [0], [0], [1], [0], [1], [0], [0], [1], [1], [0], [0], [1], [0], [0], [0], [0], [1], [0], [0], [1], [1], [1], [1], [1], [1], [0], [0], [1], [1], [1], [0], [0], [0], [0], [1], [0], [0], [1], [1], [1], [1], [0], [1], [1], [0], [1], [0], [0], [1], [1], [0], [1], [0], [0], [0], [0], [1], [1], [0], [0], [0], [0], [1], [0], [0], [1], [1], [0], [1], [1], [1], [0], [1], [0], [0], [1], [0], [1], [1], [0], [0], [1], [0], [0], [0], [1], [0], [0], [0], [1], [0], [1], [1], [1], [0], [1], [1], [0], [0], [1], [1], [0], [1], [0], [0], [1], [0], [0], [1], [0], [1], [0], [1], [1], [1], [0], [0], [1], [1], [0], [1], [1], [0], [1], [1], [1], [1], [0], [0], [0], [0], [1], [0], [1], [0], [0], [1], [1], [0], [1], [1], [0], [1], [0], [0], [1], [0], [0], [0], [1], [1], [0], [0], [1], [0], [1], [0], [0], [1], [1], [1], [1], [1], [0], [0], [0], [1], [1], [1], [0], [0], [1], [1], [0], [1], [1], [1], [1], [1], [0], [1], [0], [1], [0], [1], [1], [1], [0], [0], [0], [1], [0], [0], [0], [0], [0], [0], [1], [0], [1], [0], [0], [1], [0], [0], [0], [1], [0], [1], [0], [0], [0], [0], [0], [0], [0], [0], [0], [0], [0], [0], [1], [1], [1], [0], [1], [1], [0], [1], [0], [1], [0], [0], [1], [0], [0], [1], [1], [1], [1], [0], [1], [0], [0], [0], [1], [0], [1], [0], [1], [1], [0], [1], [0], [0], [1], [0], [1], [0], [1], [1], [0], [0], [1], [1], [0], [1], [1], [1], [1], [0], [1], [0], [0], [0], [0], [1], [1], [0], [0], [0], [0], [1], [1], [0], [1], [1], [1], [0], [0], [0], [1], [0], [1], [1], [1], [0], [0], [1], [0], [0], [0], [0], [1], [0], [1], [1], [0], [0], [1], [0], [1], [0], [1], [1], [1], [0], [1], [1], [0], [1], [0], [1], [1], [0], [1], [0], [0], [0], [1], [0], [1], [1], [1], [1], [1], [0], [0], [0], [1], [0], [1], [0], [0], [1], [1], [1], [0], [0], [0], [0], [0], [0], [0], [0], [0], [0], [0], [0], [1], [1], [1], [1], [0], [1], [0], [1], [0], [1], [1], [0], [0], [0], [0], [0], [0], [0], [0], [0], [0], [1], [0], [1], [0], [1], [0], [0], [1], [0], [1], [0], [0], [1], [1], [0], [1], [1], [1], [0], [1], [0], [1], [0], [1], [0], [0], [1], [0], [0], [1], [1], [0], [0], [1], [0], [0], [1], [0], [0], [1], [1], [0], [1], [0], [0], [1], [1], [0], [1], [1], [0], [0], [1], [1], [1], [0], [1], [0], [0], [0], [1], [0], [1], [1], [0], [0], [0], [1], [0], [0], [1], [1], [1], [1], [1], [1], [1], [1], [1], [0], [1], [0], [1], [1], [0], [0], [0], [0], [0], [0], [0], [0], [1], [0], [1], [1], [1], [1], [0], [0], [1], [0], [1], [1], [1], [0], [0], [0], [1], [1], [1], [0], [0], [0], [0], [0], [0], [1], [1], [0], [0], [1], [1], [0], [0], [1], [0], [0], [1], [0], [1], [0], [0], [0], [0], [1], [0], [1], [0], [0], [0], [0], [0], [0], [0], [1], [0], [0], [1], [0], [0], [1], [0], [0], [0], [1], [1], [1], [1], [0], [0], [0], [1], [1], [0], [1], [0], [1], [0], [1], [0], [1], [1], [1], [0], [0], [0], [1], [1], [0], [0], [1], [1], [1], [0], [1], [0], [1], [0], [1], [1], [0], [1], [1], [1], [0], [0], [0], [0], [0], [0], [1], [0], [0], [1], [1], [0], [0], [1], [0], [0], [0], [1], [0], [1], [1], [0], [0], [1], [1], [0], [1], [0], [1], [0], [1], [1], [1], [1], [1], [1], [1], [0], [1], [0], [0], [1], [1], [0], [1], [1], [0], [0], [1], [0], [1], [0], [0], [0], [1], [1], [1], [0], [1], [1], [0], [0], [1], [0], [0], [1], [1], [0], [0], [0], [1], [0], [0], [1], [0], [1], [0], [1], [1], [1], [1], [0], [1], [1], [1], [0], [1], [0], [0], [1], [0], [0], [0], [0], [1], [1], [0], [1], [1], [0], [0], [0], [0], [0], [1], [0], [1], [0], [1], [1], [0], [0], [0], [1], [0], [0], [0], [0], [1], [0], [1], [1], [1], [1], [0], [0], [1], [1], [0], [0], [1], [0], [0], [1], [0], [0], [0], [1], [1], [0], [0], [1], [1], [1], [0], [0], [1], [0], [0], [0], [1], [0], [1], [0], [1], [1], [1], [1], [0], [0], [1], [1], [0], [0], [0], [1], [0], [1], [0], [0], [0], [0], [1], [0], [1], [0], [0], [0], [1], [0], [0], [1], [0], [1], [0], [1], [1], [1], [1], [1], [1], [0], [1], [0], [1], [1], [0], [0], [0], [0], [0], [0], [1], [0], [0], [1], [0], [0], [0], [1], [1], [1], [1], [0], [1], [1], [1], [0], [1], [1], [0], [1], [0], [0], [0], [1], [0], [0], [1], [0], [0], [0], [1], [1], [1], [1], [1], [1], [0], [1], [1], [1], [1], [0], [1], [1], [1], [1], [0], [1], [0], [1], [0], [0], [0], [1], [0], [0], [0], [1], [0], [0], [1], [0], [0], [0], [1], [0], [1], [1], [1], [1], [1], [1], [0], [1], [0], [1], [0], [0], [0], [0], [1], [0], [1], [1], [1], [1], [1], [1], [0], [1], [1], [0], [1], [0], [0], [1], [1], [1], [0], [0], [0], [1], [1], [0], [1], [0], [0], [1], [1], [1], [1], [1], [0], [1], [1], [1], [1], [1], [1], [1], [1], [0], [1], [1], [1], [1], [1], [0], [1], [1], [1], [0], [1], [1], [0], [1], [0], [0], [0], [0], [0], [0], [1], [0], [0], [1], [0], [1], [0], [0], [0], [1], [1], [1], [0], [1], [1], [1], [0], [0], [1], [1], [1], [0], [1], [0], [0], [0], [1], [1], [1], [1], [0], [1], [0], [1], [1], [0], [1], [0], [0], [1], [1], [1], [1], [1], [0], [0], [1], [1], [1], [0], [1], [1], [1], [0], [0], [1], [1], [0], [0], [0], [1], [0], [0], [1], [1], [0], [0], [1], [1], [1], [0], [1], [1], [1], [1], [0], [1], [1], [1], [0], [0], [0], [0], [0], [1], [0], [0], [1], [1], [1], [0], [1], [0], [0], [1], [1], [1], [0], [0], [1], [1], [1], [1], [0], [1], [0], [0], [0], [0], [1], [1], [1], [0], [0], [1], [0], [1], [1], [1], [0], [0], [1], [0], [1], [0], [1], [1], [0], [0], [1], [0], [1], [1], [0], [1], [0], [0], [1], [1], [0], [0], [1], [0], [0], [1], [0], [1], [0], [0], [0], [0], [0], [0], [1], [0], [1], [0], [1], [0], [1], [1], [0], [0], [0], [0], [1], [1], [0], [0], [0], [0], [1], [0], [1], [1], [0], [1], [0], [1], [0], [0], [0], [1], [0], [0], [1], [0], [0], [0], [1], [1], [1], [0], [1], [0], [0], [0], [1], [1], [1], [0], [1], [0], [1], [0], [0], [1], [1], [1], [1], [1], [0], [1], [1], [0], [0], [1], [0], [0], [1], [1], [0], [0], [0], [1], [0], [0], [0], [0], [0], [1], [1], [0], [0], [1], [1], [0], [0], [0], [0], [0], [0], [1], [0], [1], [1], [0], [1], [0], [1], [1], [1], [0], [1], [0], [1], [1], [1], [1], [1], [1], [0], [1], [1], [0], [0], [0], [1], [0], [0], [0], [1], [0], [0], [0], [1], [1], [1], [1], [0], [0], [0], [1], [0], [1], [0], [0], [1], [1], [1], [0], [0], [1], [1], [0], [1], [0], [1], [1], [1], [0], [0], [0], [1], [1], [0], [0], [1], [1], [1], [0], [1], [1], [0], [1], [1], [0], [0], [1], [0], [0], [1], [0], [1], [1], [0], [0], [1], [1], [0], [0], [1], [1], [1], [0], [0], [0], [1], [1], [0], [0], [1], [0], [0], [0], [1], [0], [0], [0], [0], [1], [0], [1], [0], [1], [0], [1], [0], [0], [0], [1], [0], [1], [1], [0], [1], [0], [0], [0], [0], [1], [1], [0], [0], [1], [1], [0], [0], [1], [0], [0], [1], [1], [0], [0], [1], [0], [0], [0], [1], [0], [0], [1], [1], [1], [0], [1], [0], [1], [1], [0], [1], [0], [1], [1], [1], [0], [0], [1], [1], [0], [1], [0], [0], [0], [0], [0], [0], [0], [1], [0], [0], [1], [0], [0], [1], [0], [1], [0], [0], [1], [1], [0], [1], [1], [1], [1], [0], [0], [0], [1], [0], [0], [1], [1], [0], [0], [0], [1], [0], [1], [1], [1], [0], [1], [0], [1], [0], [0], [1], [0], [0], [1], [0], [1], [0], [1], [1], [0], [1], [1], [0], [0], [1], [0], [0], [1], [1], [0], [1], [1], [0], [1], [1], [0], [1], [1], [0], [1], [0], [0], [1], [0], [0], [0], [0], [1], [0], [1], [0], [1], [1], [1], [0], [1], [0], [1], [1], [0], [1], [1], [1], [1], [0], [1], [0], [1], [1], [0], [0], [0], [1], [0], [1], [1], [0], [0], [1], [1], [0], [1], [0], [1], [1], [1], [1], [1], [1], [0], [0], [0], [0], [0], [1], [0], [1], [0], [0], [0], [1], [1], [1], [0], [1], [0], [0], [0], [0], [1], [0], [0], [1], [0], [0], [0], [0], [1], [1], [0], [1], [0], [1], [0], [0], [0], [1], [1], [1], [1], [0], [1], [0], [0], [0], [0], [1], [0], [0], [0], [0], [0], [0], [1], [1], [1], [1], [1], [0], [0], [1], [0], [1], [1], [1], [0], [1], [0], [1], [0], [1], [0], [1], [0], [0], [0], [1], [1], [0], [0], [1], [0], [1], [0], [1], [0], [1], [1], [1], [1], [1], [1], [1], [0], [1], [1], [0], [1], [1], [0], [1], [0], [0], [1], [1], [0], [1], [0], [0], [0], [0], [1], [0], [0], [1], [0], [1], [1], [0], [0], [1], [0], [1], [0], [1], [1], [1], [0], [0], [0], [1], [0], [0], [1], [1], [0], [1], [1], [1], [0], [1], [1], [1], [1], [1], [0], [1], [1], [1], [0], [1], [0], [1], [0], [0], [0], [0], [0], [1], [1], [1], [0], [0], [1], [1], [1], [1], [1], [0], [0], [0], [0], [0], [1], [0], [0], [1], [0], [1], [0], [1], [0], [0], [1], [1], [1], [1], [1], [0], [1], [1], [1], [0], [1], [0], [0], [1], [1], [1], [1], [1], [0], [0], [0], [0], [0], [0], [0], [0], [1], [1], [1], [1], [1], [1], [1], [0], [1], [0], [0], [1], [1], [1], [1], [0], [0], [0], [1], [1], [0], [0], [0], [0], [0], [1], [0], [1], [1], [1], [0], [0], [0], [1], [1], [1], [1], [0], [0], [1], [0], [1], [0], [0], [1], [1], [1], [0], [0], [0], [1], [1], [0], [1], [1], [1], [0], [1], [1], [0], [0], [0], [0], [1], [1], [1], [0], [1], [0], [0], [1], [1], [0], [0], [1], [1], [1], [0], [0], [0], [0], [0], [0], [1], [0], [1], [0], [1], [1], [0], [0], [0], [1], [1], [0], [1], [0], [1], [0], [0], [1], [0], [1], [0], [0], [1], [0], [0], [0], [1], [0], [1], [1], [1], [0], [1], [1], [1], [0], [0], [1], [1], [1], [1], [0], [1], [0], [0], [0], [0], [1], [1], [0], [0], [0], [0], [1], [0], [1], [1], [1], [0], [1], [0], [1], [1], [1], [0], [0], [0], [1], [1], [0], [0], [0], [1], [0], [1], [1], [1], [1], [1], [0], [1], [0], [0], [0], [1], [0], [1], [1], [0], [0], [0], [0], [1], [1], [0], [1], [1], [1], [0], [1], [0], [0], [0], [1], [0], [1], [1], [0], [1], [0], [0], [0], [0], [1], [0], [0], [1], [0], [0], [0], [0], [1], [1], [0], [1], [1], [0], [0], [1], [0], [1], [0], [0], [0], [0], [0], [0], [1], [0], [0], [0], [0], [1], [1], [1], [0], [0], [0], [1], [1], [0], [1], [0], [1], [0], [0], [1], [0], [1], [0], [1], [1], [0], [1], [0], [0], [0], [0], [0], [1], [0], [1], [0], [0], [0], [0], [1], [1], [1], [1], [1], [1], [0], [0], [1], [1], [0], [0], [0], [0], [1], [0], [0], [0], [0], [1], [1], [0], [0], [1], [1], [0], [0], [0], [0], [1], [0], [1], [1], [1], [1], [0], [0], [0], [1], [1], [1], [1], [0], [1], [1], [1], [1], [1], [0], [0], [1], [0], [0], [0], [0], [0], [0], [1], [0], [0], [1], [1], [0], [0], [1], [1], [0], [0], [1], [0], [1], [0], [1], [0], [0], [1], [0], [0], [1], [1], [1], [0], [1], [0], [0], [0], [1], [0], [0], [0], [1], [0], [0], [0], [1], [1], [1], [1], [0], [1], [1], [0], [1], [0], [1], [0], [0], [1], [0], [1], [0], [0], [0], [0], [0], [0], [1], [1], [1], [0], [1], [1], [1], [0], [1], [1], [0], [0], [0], [1], [1], [0], [1], [1], [1], [1], [0], [0], [1], [1], [1], [1], [1], [1], [1], [1], [0], [1], [0], [0], [0], [0], [0], [1], [0], [1], [1], [1], [1], [0], [0], [0], [0], [0], [1], [1], [1], [0], [0], [1], [0], [1], [1], [0], [1], [1], [0], [0], [1], [1], [0], [0], [0], [1], [1], [1], [0], [1], [0], [1], [1], [0], [0], [0], [1], [1], [1], [1], [1], [0], [0], [0], [1], [0], [0], [0], [1], [1], [1], [1], [0], [1], [1], [1], [1], [1], [0], [0], [1], [0], [1], [1], [1], [0], [0], [1], [0], [0], [1], [0], [1], [1], [1], [1], [1], [1], [1], [1], [0], [1], [1], [0], [0], [1], [1], [0], [0], [0], [1], [1], [1], [1], [0], [1], [0], [1], [1], [0], [1], [1], [0], [0], [0], [0], [1], [0], [0], [1], [1], [0], [1], [0], [0], [0], [1], [1], [1], [1], [0], [0], [1], [1], [0], [0], [0], [1], [1], [0], [0], [0], [0], [0], [1], [1], [1], [0], [1], [1], [0], [1], [1], [0], [1], [0], [0], [1], [1], [1], [0], [0], [0], [1], [0], [0], [1], [1], [0], [1], [1], [1], [0], [0], [0], [0], [0], [1], [0], [1], [1], [1], [0], [1], [1], [1], [1], [1], [1], [1], [0], [0], [1], [1], [0], [0], [1], [1], [0], [1], [1], [1], [0], [1], [0], [0], [0], [1], [1], [0], [1], [1], [1], [1], [0], [1], [1], [1], [1], [0], [1], [0], [1], [0], [1], [0], [1], [0], [1], [0], [1], [0], [1], [0], [0], [0], [1], [0], [1], [0], [0], [0], [0], [0], [0], [1], [1], [1], [0], [1], [1], [1], [0], [1], [1], [0], [1], [1], [0], [0], [1], [0], [1], [1], [0], [0], [0], [0], [1], [1], [1], [1], [1], [0], [1], [0], [1], [1], [0], [0], [1], [0], [0], [1], [0], [0], [0], [0], [0], [0], [1], [0], [1], [0], [1], [1], [1], [1], [0], [1], [0], [0], [1], [0], [1], [1], [0], [0], [0], [0], [0], [1], [1], [1], [0], [0], [1], [0], [0], [1], [1], [0], [0], [1], [0], [1], [0], [0], [1], [1], [0], [1], [1], [1], [1], [0], [0], [1], [1], [0], [0], [1], [0], [0], [1], [1], [1], [1], [1], [1], [0], [1], [0], [1], [1], [1], [0], [0], [1], [0], [0], [0], [0], [0], [1], [0], [1], [1], [0], [1], [0], [0], [1], [0], [1], [0], [0], [1], [1], [1], [1], [0], [1], [0], [0], [1], [0], [0], [0], [1], [0], [1], [0], [1], [0], [0], [0], [1], [1], [1], [1], [1], [0], [0], [0], [0], [0], [0], [1], [1], [0], [0], [0], [1], [1], [1], [0], [0], [0], [1], [0], [1], [0], [1], [1], [0], [1], [0], [0], [0], [1], [1], [1], [1], [1], [0], [0], [0], [1], [1], [0], [1], [0], [1], [0], [1], [1], [1], [1], [1], [1], [1], [0], [1], [0], [1], [0], [0], [0], [1], [0], [0], [0], [1], [1], [1], [0], [0], [0], [1], [0], [0], [1], [0], [0], [1], [1], [1], [0], [0], [1], [0], [1], [1], [1], [0], [0], [0], [1], [0], [1], [1], [0], [0], [1], [0], [0], [1], [0], [1], [0], [0], [1], [1], [0], [0], [0], [1], [0], [1], [1], [0], [1], [0], [1], [0], [0], [0], [0], [1], [1], [0], [0], [0], [0], [1], [1], [1], [1], [0], [0], [0], [0], [1], [0], [1], [0], [1], [0], [1], [1], [0], [0], [0], [1], [0], [1], [1], [0], [1], [0], [1], [1], [0], [0], [1], [1], [1], [0], [1], [0], [1], [0], [0], [0], [0], [1], [0], [1], [1], [0], [1], [1], [1], [1], [1], [1], [0], [1], [0], [1], [1], [0], [0], [1], [1], [0], [1], [1], [1], [0], [0], [1], [1], [1], [1], [0], [1], [1], [1], [1], [0], [0], [0], [0], [1], [1], [0], [1], [0], [0], [1], [0], [0], [0], [0], [0], [0], [1], [1], [1], [1], [1], [1], [0], [0], [1], [1], [1], [1], [1], [1], [1], [1], [0], [0], [0], [1], [0], [1], [0], [1], [0], [0], [0], [1], [0], [0], [1], [1], [0], [0], [1], [0], [1], [0], [1], [1], [0], [0], [1], [0], [1], [0], [0], [1], [0], [0], [1], [0], [1], [1], [0], [0], [0], [1], [1], [0], [0], [1], [0], [1], [1], [0], [1], [0], [0], [1], [0], [0], [1], [1], [1], [0], [1], [1], [0], [0], [0], [0], [1], [1], [0], [0], [1], [0], [0], [1], [0], [1], [0], [1], [0], [1], [1], [1], [0], [1], [1], [0], [0], [1], [1], [1], [0], [0], [0], [1], [0], [0], [1], [0], [1], [0], [1], [0], [1], [0], [0], [1], [0], [1], [0], [1], [0], [0], [1], [1], [1], [1], [0], [1], [0], [1], [0], [0], [0], [0], [0], [0], [1], [0], [0], [0], [0], [0], [0], [0], [0], [1], [0], [0], [1], [1], [0], [0], [1], [0], [1], [0], [1], [0], [0], [1], [1], [1], [1], [0], [0], [1], [1], [0], [0], [0], [0], [1], [1], [0], [0], [1], [0], [1], [1], [1], [1], [1], [0], [1], [0], [1], [0], [1], [1], [0], [1], [1], [1], [0], [1], [1], [0], [1], [0], [0], [0], [1], [1], [0], [0], [1], [0], [1], [0], [1], [0], [0], [0], [1], [1], [1], [1], [1], [0], [0], [1], [0], [1], [1], [0], [0], [1], [0], [1], [0], [0], [1], [0], [0], [1], [1], [1], [0], [1], [0], [0], [1], [1], [1], [0], [1], [0], [0], [1], [1], [1], [1], [1], [0], [0], [0], [1], [0], [1], [1], [0], [1], [1], [0], [1], [0], [1], [1], [1], [1], [1], [0], [1], [1], [1], [0], [1], [0], [1], [0], [0], [1], [1], [0], [0], [1], [1], [0], [0], [1], [1], [0], [1], [0], [0], [0], [1], [1], [0], [0], [0], [0], [0], [0], [1], [1], [1], [1], [1], [0], [0], [0], [1], [1], [1], [0], [1], [1], [0], [0], [1], [1], [0], [0], [1], [1], [1], [1], [0], [1], [1], [1], [0], [0], [1], [0], [0], [1], [0], [0], [0], [0], [0], [1], [1], [0], [0], [0], [0], [1], [1], [1], [1], [0], [0], [1], [0], [0], [1], [0], [0], [0], [1], [0], [0], [0], [0], [1], [0], [1], [1], [0], [1], [1], [1], [1], [0], [1], [0], [1], [1], [0], [1], [0], [1], [1], [0], [1], [1], [1], [0], [1], [0], [0], [0], [1], [0], [0], [1], [0], [0], [1], [0], [1], [0], [0], [1], [1], [1], [1], [1], [1], [0], [1], [0], [1], [0], [0], [0], [0], [1], [1], [1], [1], [0], [0], [0], [0], [1], [1], [1], [0], [1], [1], [1], [1], [1], [0], [0], [0], [0], [0], [1], [1], [0], [1], [0], [0], [1], [1], [0], [1], [1], [1], [1], [1], [0], [0], [1], [0], [1], [1], [0], [0], [0], [1], [1], [1], [1], [0], [0], [1], [1], [0], [0], [1], [0], [0], [1], [0], [1], [0], [1], [0], [0], [0], [0], [1], [0], [0], [0], [0], [0], [0], [1], [1], [1], [0], [1], [0], [1], [1], [0], [0], [0], [1], [0], [0], [0], [1], [1], [0], [0], [1], [1], [1], [0], [1], [0], [0], [1], [0], [1], [0], [1], [0], [0], [0], [0], [0], [1], [0], [0], [1], [1], [0], [0], [0], [1], [0], [0], [0], [0], [0], [1], [0], [1], [0], [1], [0], [1], [0], [0], [0], [1], [1], [1], [1], [1], [1], [1], [1], [0], [0], [1], [1], [0], [0], [0], [0], [1], [1], [1], [0], [1], [0], [0], [1], [0], [1], [0], [1], [0], [1], [0], [1], [1], [0], [0], [1], [1], [1], [0], [0], [0], [0], [1], [1], [1], [0], [0], [0], [0], [1], [0], [0], [1], [1], [0], [0], [1], [0], [0], [1], [0], [0], [1], [0], [0], [1], [0], [1], [0], [1], [1], [0], [1], [0], [0], [0], [1], [0], [1], [1], [1], [0], [0], [0], [1], [1], [1], [1], [0], [0], [1], [1], [0], [0], [1], [0], [0], [1], [0], [1], [0], [0], [1], [0], [0], [1], [1], [1], [1], [1], [1], [1], [1], [1], [1], [0], [0], [1], [0], [1], [0], [1], [0], [0], [0], [0], [1], [1], [1], [0], [0], [1], [1], [1], [1], [0], [1], [0], [1], [1], [1], [0], [1], [0], [1], [1], [0], [0], [1], [1], [1], [1], [1], [0], [0], [1], [1], [1], [1], [1], [1], [0], [0], [1], [1], [0], [1], [0], [0], [1], [0], [1], [1], [1], [1], [0], [0], [1], [1], [1], [0], [0], [1], [0], [1], [1], [0], [0], [0], [1], [0], [1], [0], [0], [0], [1], [1], [0], [1], [0], [1], [1], [0], [1], [1], [1], [0], [0], [0], [1], [0], [1], [0], [0], [1], [0], [0], [1], [1], [1], [0], [1], [0], [1], [0], [1], [0], [1], [0], [1], [1], [0], [0], [0], [1], [1], [1], [0], [1], [0], [0], [1], [0], [0], [1], [1], [0], [0], [0], [0], [1], [1], [1], [1], [1], [0], [0], [1], [0], [1], [0], [1], [0], [1], [1], [1], [0], [1], [1], [0], [0], [0], [1], [1], [1], [1], [1], [0], [0], [1], [0], [0], [1], [1], [1], [0], [0], [1], [1], [0], [0], [0], [0], [0], [0], [1], [0], [0], [1], [0], [0], [0], [0], [0], [1], [1], [1], [0], [0], [1], [1], [0], [1], [0], [1], [0], [1], [1], [1], [1], [1], [0], [0], [1], [1], [0], [1], [0], [0], [0], [0], [1], [0], [0], [1], [1], [1], [1], [0], [1], [0], [1], [0], [0], [0], [1], [1], [0], [1], [0], [0], [0], [0], [0], [1], [1], [1], [1], [0], [0], [1], [1], [0], [1], [1], [0], [1], [0], [1], [0], [0], [0], [0], [0], [0], [1], [1], [1], [1], [0], [0], [0], [0], [0], [0], [0], [0], [1], [0], [0], [0], [0], [1], [0], [0], [1], [1], [0], [1], [0], [0], [0], [0], [1], [0], [0], [0], [0], [1], [1], [1], [1], [1], [0], [1], [1], [0], [1], [0], [0], [0], [0], [1]]\n",
      "====BEFORE TRAINING W1 W2\n"
     ]
    },
    {
     "name": "stdout",
     "output_type": "stream",
     "text": [
      "[[-0.81131822  1.48459876  0.06532937]\n",
      " [-2.44270396  0.0992484   0.59122431]]\n",
      "[[-0.81131822]\n",
      " [ 1.48459876]\n",
      " [ 0.06532937]]\n",
      "After 0 training steps , cross entropy on all data is 0.287892\n",
      "After 1000 training steps , cross entropy on all data is 0.093544\n",
      "After 2000 training steps , cross entropy on all data is 0.0467108\n",
      "After 3000 training steps , cross entropy on all data is 0.0294574\n",
      "After 4000 training steps , cross entropy on all data is 0.0197048\n",
      "After 5000 training steps , cross entropy on all data is 0.0135756\n",
      "After 6000 training steps , cross entropy on all data is 0.009487\n",
      "After 7000 training steps , cross entropy on all data is 0.00682429\n",
      "After 8000 training steps , cross entropy on all data is 0.00498164\n",
      "After 9000 training steps , cross entropy on all data is 0.0036696\n",
      "After 10000 training steps , cross entropy on all data is 0.00277887\n",
      "===AFTER TRAINING W1 W2\n",
      "[[-0.81131822  2.75265813  2.06231666]\n",
      " [-2.44270396  1.11795187  2.34801531]]\n",
      "[[-0.81131822]\n",
      " [ 2.85262728]\n",
      " [ 1.49837124]]\n",
      "====PREDICT\n",
      "[[  3.95345736]\n",
      " [  5.04769945]\n",
      " [ 12.77831745]\n",
      " [ 13.02553558]]\n"
     ]
    }
   ],
   "source": [
    "BATCH_SIZE = 800\n",
    "STEPS = 10000\n",
    "\n",
    "w1=tf.Variable(tf.random_normal([2,3],stddev=1,seed=1))\n",
    "w2=tf.Variable(tf.random_normal([3,1],stddev=1,seed=1))\n",
    "\n",
    "x=tf.placeholder(tf.float32, shape=(None,2), name=\"x-input\")\n",
    "y_=tf.placeholder(tf.float32, shape=(None,1), name=\"y-input\")\n",
    "\n",
    "\n",
    "test_data=[[0.3,0.1],[0.4,0.1],[0.8,0.6],[0.7,0.8]]\n",
    "\n",
    "\n",
    "#define neural network forward propagation\n",
    "a=tf.nn.relu(tf.matmul(x,w1))\n",
    "y=tf.nn.relu(tf.matmul(a,w2))\n",
    "\n",
    "#define loss and backward propagation \n",
    "cross_entropy = -tf.reduce_mean(y_*tf.log(tf.clip_by_value(y,1e-10,1.0)))\n",
    "#cross_entropy = tf.reduce_mean(tf.reduce_sum(tf.square(y-y_),reduction_indices=[1]))\n",
    "\n",
    "train_step = tf.train.AdamOptimizer(0.0003).minimize(cross_entropy)\n",
    "#train_step = tf.train.GradientDescentOptimizer(0.003).minimize(cross_entropy)\n",
    "rdm=RandomState(1)\n",
    "dataset_size=12800\n",
    "X=rdm.rand(dataset_size,2)\n",
    "\n",
    "Y = [[int(x1+x2<1)] for (x1,x2) in X]\n",
    "\n",
    "\n",
    "with tf.Session() as sess:\n",
    "    \n",
    "    init_op=tf.global_variables_initializer()\n",
    "    sess.run(init_op)\n",
    "    print(\"training  sample X\")\n",
    "    print(X)\n",
    "    print(\"training lable Y\")\n",
    "    print(Y)\n",
    "    print(\"====BEFORE TRAINING W1 W2\")\n",
    "    print(sess.run(w1))\n",
    "    print(sess.run(w2))\n",
    "    \n",
    "    for i in range(STEPS+1):\n",
    "\n",
    "        start=(i*BATCH_SIZE)%dataset_size\n",
    "        end=min(start+BATCH_SIZE,dataset_size)\n",
    "        \n",
    "        sess.run(train_step,feed_dict={x:X[start:end],y_:Y[start:end]})\n",
    "        \n",
    "        if i % 1000 == 0:\n",
    "            total_cross_entropy = sess.run(cross_entropy,feed_dict={x:X,y_:Y})\n",
    "            print(\"After %d training steps , cross entropy on all data is %g\" %(i,total_cross_entropy))\n",
    "    \n",
    "\n",
    "    print(\"===AFTER TRAINING W1 W2\")    \n",
    "    print(sess.run(w1))\n",
    "    print(sess.run(w2))\n",
    "    \n",
    "    \n",
    "    saver=tf.train.Saver()\n",
    "    saver.save(sess,\"model.ckpt\")\n",
    "    print\"====PREDICT\"\n",
    "    \n",
    "    print(sess.run(y,feed_dict={x:test_data}))\n",
    "   "
   ]
  },
  {
   "cell_type": "code",
   "execution_count": 90,
   "metadata": {},
   "outputs": [
    {
     "data": {
      "text/plain": [
       "[<matplotlib.lines.Line2D at 0x1a8b24690>]"
      ]
     },
     "execution_count": 90,
     "metadata": {},
     "output_type": "execute_result"
    },
    {
     "data": {
      "image/png": "[encoded data removed]",
      "text/plain": [
       "<matplotlib.figure.Figure at 0x160868b90>"
      ]
     },
     "metadata": {},
     "output_type": "display_data"
    }
   ],
   "source": [
    "#fig,ax=plt.subpolts()\n",
    "\n",
    "x = np.arange(0,2*np.pi,0.01)\n",
    "y = np.sin(x)\n",
    "%matplotlib inline\n",
    "plt.plot(x,y)"
   ]
  },
  {
   "cell_type": "code",
   "execution_count": null,
   "metadata": {
    "collapsed": true
   },
   "outputs": [],
   "source": [
    " "
   ]
  }
 ],
 "metadata": {
  "kernelspec": {
   "display_name": "Python 2",
   "language": "python",
   "name": "python2"
  },
  "language_info": {
   "codemirror_mode": {
    "name": "ipython",
    "version": 2
   },
   "file_extension": ".py",
   "mimetype": "text/x-python",
   "name": "python",
   "nbconvert_exporter": "python",
   "pygments_lexer": "ipython2",
   "version": "2.7.10"
  }
 },
 "nbformat": 4,
 "nbformat_minor": 2
}
