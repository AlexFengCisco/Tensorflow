{
 "cells": [
  {
   "cell_type": "markdown",
   "metadata": {},
   "source": [
    "# Alex Jupyter notebook Tensorflow"
   ]
  },
  {
   "cell_type": "markdown",
   "metadata": {},
   "source": [
    "    A Jupyter learning notes for tensorflow \n",
    "    June ,2017\n",
    "    Alex Feng\n",
    "    alfeng@cisco.com\n",
    "    \n",
    "    Jupyter_path = /Users/AlexFeng/Library/Python/2.7/bin/jupyter notebook\n",
    "    \n",
    "[Tensorflow official web](http://www.tensorflow.org)\n",
    "    \n",
    "For Github , please refer [Alex Github Tensorflow link][rf1]\n",
    "    \n",
    "   [rf1]:<https://github.com/AlexFengCisco/Tensorflow/blob/master/Jupyter_note/Tensorflow_note.ipynb>"
   ]
  },
  {
   "cell_type": "markdown",
   "metadata": {},
   "source": [
    "### Import modules"
   ]
  },
  {
   "cell_type": "code",
   "execution_count": 2,
   "metadata": {
    "collapsed": true
   },
   "outputs": [],
   "source": [
    "import tensorflow as tf\n",
    "import numpy as np\n",
    "import matplotlib as mpl\n",
    "from matplotlib import pyplot as plt\n",
    "from matplotlib import animation\n",
    "from numpy.random import RandomState"
   ]
  },
  {
   "cell_type": "markdown",
   "metadata": {},
   "source": [
    "### Linear matplot"
   ]
  },
  {
   "cell_type": "code",
   "execution_count": 14,
   "metadata": {
    "scrolled": true
   },
   "outputs": [
    {
     "data": {
      "text/plain": [
       "[<matplotlib.lines.Line2D at 0x11664fd50>]"
      ]
     },
     "execution_count": 14,
     "metadata": {},
     "output_type": "execute_result"
    },
    {
     "data": {
      "image/png": "[encoded data removed]",
      "text/plain": [
       "<matplotlib.figure.Figure at 0x1168c5090>"
      ]
     },
     "metadata": {},
     "output_type": "display_data"
    }
   ],
   "source": [
    "plt.plot([1,2,3,4,5],[1,2,3,4,5])"
   ]
  },
  {
   "cell_type": "markdown",
   "metadata": {},
   "source": [
    "### Add picture link in Jupyter notebook page"
   ]
  },
  {
   "cell_type": "code",
   "execution_count": 65,
   "metadata": {},
   "outputs": [
    {
     "data": {
      "text/html": [
       "<img src=\"https://lh3.googleusercontent.com/hIViPosdbSGUpLmPnP2WqL9EmvoVOXW7dy6nztmY5NZ9_u5lumMz4sQjjsBZ2QxjyZZCIPgucD2rhdL5uR7K0vLi09CEJYY=s688\"/>"
      ],
      "text/plain": [
       "<IPython.core.display.Image object>"
      ]
     },
     "execution_count": 65,
     "metadata": {},
     "output_type": "execute_result"
    }
   ],
   "source": [
    "from IPython.display import Image\n",
    "from IPython.core.display import HTML\n",
    "\n",
    "Image(url=\"https://lh3.googleusercontent.com/hIViPosdbSGUpLmPnP2WqL9EmvoVOXW7dy6nztmY5NZ9_u5lumMz4sQjjsBZ2QxjyZZCIPgucD2rhdL5uR7K0vLi09CEJYY=s688\")"
   ]
  },
  {
   "cell_type": "markdown",
   "metadata": {},
   "source": [
    "### Add local picture with markdown"
   ]
  },
  {
   "cell_type": "markdown",
   "metadata": {},
   "source": [
    "![title](sin.png)"
   ]
  },
  {
   "cell_type": "markdown",
   "metadata": {},
   "source": [
    "### Tensorflow get_default_graph()"
   ]
  },
  {
   "cell_type": "code",
   "execution_count": 8,
   "metadata": {
    "scrolled": true
   },
   "outputs": [
    {
     "name": "stdout",
     "output_type": "stream",
     "text": [
      "<tensorflow.python.framework.ops.Graph object at 0x104073090>\n",
      "True\n",
      "Tensor(\"a_1:0\", shape=(2,), dtype=float32)\n"
     ]
    }
   ],
   "source": [
    "a = tf.constant([1.0,2.0],name='a')\n",
    "b = tf.constant([2.0,3.0],name='b')\n",
    "print(tf.get_default_graph())\n",
    "print(a.graph is tf.get_default_graph())\n",
    "\n",
    "print a"
   ]
  },
  {
   "cell_type": "markdown",
   "metadata": {},
   "source": [
    "### Matplot nonlinear "
   ]
  },
  {
   "cell_type": "code",
   "execution_count": 5,
   "metadata": {},
   "outputs": [
    {
     "data": {
      "text/plain": [
       "[<matplotlib.lines.Line2D at 0x10b6b2b10>]"
      ]
     },
     "execution_count": 5,
     "metadata": {},
     "output_type": "execute_result"
    },
    {
     "data": {
      "image/png": "[encoded data removed]",
      "text/plain": [
       "<matplotlib.figure.Figure at 0x10b4fa2d0>"
      ]
     },
     "metadata": {},
     "output_type": "display_data"
    }
   ],
   "source": [
    "i=0\n",
    "ii=-10\n",
    "x =[]\n",
    "y =[]\n",
    "for i in range(200):\n",
    "    x.append(ii)\n",
    "    y.append(ii*ii)\n",
    "    ii=ii+0.1\n",
    "%matplotlib inline \n",
    "# for interactive python mode ,ie ipython in Jupyter notebook\n",
    "plt.plot(x,y)  "
   ]
  },
  {
   "cell_type": "markdown",
   "metadata": {},
   "source": [
    "### Tensorflow avtivation function matplot"
   ]
  },
  {
   "cell_type": "code",
   "execution_count": 7,
   "metadata": {
    "scrolled": false
   },
   "outputs": [
    {
     "data": {
      "text/plain": [
       "[<matplotlib.lines.Line2D at 0x10b934290>]"
      ]
     },
     "execution_count": 7,
     "metadata": {},
     "output_type": "execute_result"
    },
    {
     "data": {
      "image/png": "[encoded data removed]",
      "text/plain": [
       "<matplotlib.figure.Figure at 0x10b7c7590>"
      ]
     },
     "metadata": {},
     "output_type": "display_data"
    }
   ],
   "source": [
    "X=tf.constant(x,dtype=tf.float32)\n",
    "sess=tf.Session()\n",
    "Y=sess.run(tf.tanh(X)) \n",
    "# activation function  tf.nn.relu()  tf.sigmoid()  tf.tanh()\n",
    "\n",
    "%matplotlib inline\n",
    "plt.plot(x,Y) "
   ]
  },
  {
   "cell_type": "markdown",
   "metadata": {
    "collapsed": true
   },
   "source": [
    "### Tensorflow queue"
   ]
  },
  {
   "cell_type": "markdown",
   "metadata": {},
   "source": [
    "\n",
    ">create a queue , init FIFO queue with digits , and first out the queue , plus the digit and push into the queue tail , then do it twice ...\n"
   ]
  },
  {
   "cell_type": "code",
   "execution_count": 10,
   "metadata": {},
   "outputs": [
    {
     "name": "stdout",
     "output_type": "stream",
     "text": [
      "0.3\n",
      "1.1\n",
      "1.2\n"
     ]
    }
   ],
   "source": [
    "q = tf.FIFOQueue(3,\"float\")\n",
    "init = q.enqueue_many(([0.1,0.2,0.3],))\n",
    "x = q.dequeue()\n",
    "y = x+1\n",
    "q_inc = q.enqueue([y])\n",
    "\n",
    "with tf.Session() as sess:\n",
    "    sess.run(init)\n",
    "    quelen = sess.run(q.size())\n",
    "    for i in range(2):\n",
    "        sess.run(q_inc)\n",
    "        \n",
    "    quelen = sess.run(q.size())\n",
    "    for i in range(quelen):\n",
    "        print (sess.run(q.dequeue()))\n",
    "        "
   ]
  },
  {
   "cell_type": "markdown",
   "metadata": {},
   "source": [
    ">The follwoing demostrate tf.Variable tf.random_normal with seed"
   ]
  },
  {
   "cell_type": "code",
   "execution_count": 13,
   "metadata": {},
   "outputs": [
    {
     "name": "stdout",
     "output_type": "stream",
     "text": [
      "Session 1\n",
      "[ 0.93651235]\n",
      "[ 0.72354221]\n",
      "[-0.98065913]\n",
      "[-1.60730386]\n",
      "Session 2\n",
      "[ 0.38616145]\n",
      "[ 0.09960794]\n",
      "[-1.09278762]\n",
      "[-1.12372315]\n"
     ]
    }
   ],
   "source": [
    "a = tf.random_uniform([1]) # no seed\n",
    "b = tf.random_normal([1])\n",
    "\n",
    "print(\"Session 1\")\n",
    "with tf.Session() as sess1:\n",
    "  print(sess1.run(a))  # generates 'A1'\n",
    "  print(sess1.run(a))  # generates 'A2'\n",
    "  print(sess1.run(b))  # generates 'B1'\n",
    "  print(sess1.run(b))  # generates 'B2'\n",
    "\n",
    "print(\"Session 2\")\n",
    "with tf.Session() as sess2:\n",
    "  print(sess2.run(a))  # generates 'A3'\n",
    "  print(sess2.run(a))  # generates 'A4'\n",
    "  print(sess2.run(b))  # generates 'B3'\n",
    "  print(sess2.run(b))  # generates 'B4'"
   ]
  },
  {
   "cell_type": "code",
   "execution_count": 14,
   "metadata": {},
   "outputs": [
    {
     "name": "stdout",
     "output_type": "stream",
     "text": [
      "Session 1\n",
      "[[ 0.23903739  0.92039955  0.05051243]\n",
      " [ 0.49574447  0.83552229  0.02647042]]\n",
      "[[ 0.76375294  0.81383967  0.45532501]\n",
      " [ 0.04126346  0.71633077  0.72387242]]\n",
      "[-1.06889081]\n",
      "[-1.30729699]\n",
      "Session 2\n",
      "[[ 0.23903739  0.92039955  0.05051243]\n",
      " [ 0.49574447  0.83552229  0.02647042]]\n",
      "[[ 0.76375294  0.81383967  0.45532501]\n",
      " [ 0.04126346  0.71633077  0.72387242]]\n",
      "[ 0.45696697]\n",
      "[ 0.93150395]\n"
     ]
    }
   ],
   "source": [
    "a = tf.random_uniform([2,3], seed=1)\n",
    "b = tf.random_normal([1])\n",
    "\n",
    "# Repeatedly running this block with the same graph will generate the same\n",
    "# sequence of values for 'a', but different sequences of values for 'b'.\n",
    "print(\"Session 1\")\n",
    "with tf.Session() as sess1:\n",
    "  print(sess1.run(a))  # generates 'A1'\n",
    "  print(sess1.run(a))  # generates 'A2'\n",
    "  print(sess1.run(b))  # generates 'B1'\n",
    "  print(sess1.run(b))  # generates 'B2'\n",
    "\n",
    "print(\"Session 2\")\n",
    "with tf.Session() as sess2:\n",
    "  print(sess2.run(a))  # generates 'A1'\n",
    "  print(sess2.run(a))  # generates 'A2'\n",
    "  print(sess2.run(b))  # generates 'B3'\n",
    "  print(sess2.run(b))  # generates 'B4'"
   ]
  },
  {
   "cell_type": "markdown",
   "metadata": {},
   "source": [
    ">After many many times tunning , adjust training rate and steps ,also try different activate functions , Relu can get 0.3xx cross_entropy loss , sigmoid and tanh can get 0.06x loss, but both tanh and sigmoid met Gradient Vanishing issue , reduce the training rate can solve such kind problems.\n",
    "\n",
    ">Basicly ,tunning is trying to find a way to balance computing resources and learning acurracy ."
   ]
  },
  {
   "cell_type": "code",
   "execution_count": 17,
   "metadata": {},
   "outputs": [
    {
     "name": "stdout",
     "output_type": "stream",
     "text": [
      "training  sample X\n",
      "[[  4.17022005e-01   7.20324493e-01]\n",
      " [  1.14374817e-04   3.02332573e-01]\n",
      " [  1.46755891e-01   9.23385948e-02]\n",
      " ..., \n",
      " [  3.90439637e-01   2.89011083e-01]\n",
      " [  5.13300349e-01   3.48256682e-01]\n",
      " [  9.28228018e-01   7.89947796e-01]]\n",
      "training lable Y\n",
      "[[0], [1], [1], [1], [1], [0], [0], [1], [1], [1], [0], [0], [0], [1], [0], [1], [0], [0], [0], [1], [0], [0], [1], [0], [1], [1], [1], [1], [1], [0], [1], [0], [1], [0], [0], [0], [1], [1], [0], [0], [0], [0], [0], [0], [0], [0], [0], [1], [0], [1], [1], [0], [0], [1], [0], [1], [0], [1], [0], [1], [1], [1], [0], [0], [1], [0], [1], [0], [0], [0], [1], [1], [1], [1], [1], [0], [1], [1], [1], [0], [1], [0], [1], [1], [0], [0], [1], [0], [1], [1], [1], [1], [0], [1], [0], [1], [0], [0], [1], [0], [0], [0], [1], [0], [0], [0], [1], [1], [1], [1], [1], [1], [0], [0], [0], [0], [0], [0], [1], [0], [0], [1], [0], [1], [0], [1], [0], [0], [0], [1], [0], [0], [0], [0], [1], [1], [0], [0], [1], [0], [0], [1], [0], [0], [0], [0], [0], [1], [1], [0], [0], [0], [1], [1], [1], [0], [1], [1], [1], [0], [0], [1], [1], [1], [0], [1], [1], [1], [0], [0], [0], [0], [1], [0], [1], [0], [1], [1], [0], [0], [1], [0], [0], [0], [1], [1], [1], [1], [0], [1], [0], [0], [1], [0], [1], [0], [1], [0], [0], [0], [0], [1], [0], [1], [1], [1], [0], [0], [0], [0], [1], [1], [1], [1], [0], [1], [1], [0], [1], [1], [1], [1], [0], [0], [1], [1], [0], [0], [0], [1], [1], [1], [0], [0], [1], [0], [1], [1], [0], [1], [0], [0], [0], [1], [1], [0], [1], [0], [0], [0], [1], [1], [0], [0], [1], [1], [1], [0], [1], [0], [0], [0], [1], [1], [1], [0], [0], [0], [0], [1], [0], [1], [1], [0], [0], [1], [0], [1], [0], [1], [1], [1], [0], [0], [1], [0], [0], [0], [1], [0], [0], [0], [0], [0], [1], [0], [1], [1], [1], [1], [0], [1], [0], [0], [0], [0], [0], [0], [1], [1], [1], [1], [1], [0], [0], [0], [0], [1], [0], [1], [1], [1], [1], [1], [1], [1], [1], [0], [1], [1], [0], [1], [1], [1], [1], [0], [0], [0], [1], [0], [0], [0], [0], [0], [0], [1], [0], [1], [0], [1], [1], [1], [1], [0], [0], [1], [1], [0], [0], [1], [0], [0], [0], [1], [0], [1], [0], [0], [0], [1], [0], [0], [1], [0], [0], [1], [0], [0], [0], [1], [0], [1], [1], [0], [0], [0], [0], [1], [1], [1], [0], [0], [0], [0], [0], [1], [0], [0], [1], [0], [0], [0], [0], [1], [1], [1], [0], [1], [1], [0], [1], [1], [1], [1], [0], [0], [1], [0], [1], [1], [1], [0], [0], [1], [1], [0], [1], [0], [0], [1], [0], [0], [0], [0], [0], [1], [1], [1], [1], [0], [1], [0], [0], [1], [1], [1], [1], [0], [0], [0], [0], [1], [1], [0], [1], [1], [0], [0], [0], [0], [1], [1], [1], [0], [1], [1], [1], [0], [1], [0], [1], [0], [1], [1], [1], [0], [1], [1], [0], [1], [0], [0], [1], [1], [0], [0], [0], [1], [1], [1], [1], [0], [1], [1], [0], [0], [1], [0], [1], [0], [0], [0], [1], [1], [1], [0], [0], [1], [1], [1], [0], [0], [1], [0], [0], [1], [1], [1], [1], [0], [1], [0], [0], [0], [0], [0], [1], [0], [0], [1], [1], [1], [0], [1], [0], [1], [0], [0], [0], [0], [0], [1], [1], [1], [0], [0], [1], [0], [1], [0], [1], [1], [0], [0], [0], [1], [0], [1], [1], [1], [1], [0], [0], [1], [1], [1], [1], [1], [0], [0], [1], [0], [0], [0], [1], [0], [0], [1], [0], [0], [1], [1], [0], [0], [1], [1], [1], [0], [0], [0], [0], [1], [0], [0], [0], [1], [0], [0], [1], [0], [0], [0], [1], [0], [0], [1], [1], [1], [0], [0], [1], [0], [1], [0], [1], [1], [0], [1], [0], [1], [1], [0], [0], [0], [1], [0], [1], [0], [1], [1], [1], [0], [1], [1], [1], [0], [1], [1], [1], [1], [0], [1], [0], [1], [0], [0], [0], [0], [0], [1], [1], [0], [1], [0], [0], [1], [1], [0], [0], [0], [0], [0], [1], [0], [1], [1], [1], [1], [0], [0], [0], [1], [0], [0], [0], [1], [1], [1], [1], [0], [0], [1], [0], [0], [0], [0], [1], [1], [1], [0], [1], [0], [1], [1], [1], [0], [0], [0], [0], [0], [1], [0], [0], [0], [1], [1], [0], [0], [0], [1], [1], [1], [0], [1], [0], [1], [0], [0], [1], [0], [0], [0], [0], [1], [1], [1], [1], [0], [0], [1], [0], [1], [1], [1], [1], [1], [1], [1], [0], [1], [1], [0], [0], [0], [1], [1], [1], [0], [0], [0], [1], [0], [1], [0], [1], [1], [0], [0], [1], [0], [0], [0], [0], [1], [1], [0], [0], [1], [1], [1], [1], [1], [0], [0], [1], [0], [0], [0], [0], [0], [0], [0], [1], [0], [1], [0], [1], [1], [0], [1], [0], [1], [1], [0], [0], [0], [1], [0], [0], [0], [1], [0], [0], [0], [1], [0], [1], [1], [1], [0], [0], [0], [0], [0], [1], [1], [1], [0], [0], [0], [1], [0], [0], [1], [0], [1], [0], [0], [0], [1], [0], [0], [0], [0], [0], [0], [1], [0], [0], [0], [1], [1], [1], [1], [0], [0], [1], [0], [0], [0], [0], [0], [1], [0], [1], [1], [0], [1], [0], [1], [0], [0], [1], [1], [0], [0], [0], [0], [0], [1], [0], [0], [1], [0], [0], [1], [0], [0], [1], [1], [0], [1], [1], [1], [1], [0], [1], [0], [0], [1], [0], [0], [0], [0], [0], [0], [0], [1], [0], [0], [0], [0], [0], [1], [1], [0], [1], [0], [0], [0], [1], [1], [1], [0], [0], [1], [1], [1], [1], [0], [0], [0], [0], [0], [1], [0], [1], [0], [1], [1], [1], [0], [1], [1], [1], [0], [0], [1], [1], [0], [0], [0], [0], [0], [0], [0], [1], [1], [0], [0], [1], [0], [1], [0], [1], [1], [0], [1], [0], [0], [0], [0], [1], [0], [0], [0], [1], [0], [0], [0], [1], [1], [1], [1], [0], [1], [0], [1], [1], [1], [0], [0], [0], [0], [0], [1], [1], [1], [1], [0], [1], [0], [1], [0], [1], [0], [0], [0], [0], [1], [0], [1], [1], [0], [1], [0], [1], [1], [1], [0], [0], [0], [1], [0], [1], [0], [0], [1], [1], [1], [1], [0], [1], [1], [0], [0], [1], [1], [0], [1], [1], [1], [1], [1], [1], [1], [1], [1], [1], [1], [0], [1], [0], [0], [0], [1], [0], [1], [0], [1], [0], [0], [1], [0], [1], [0], [1], [0], [1], [0], [1], [0], [1], [0], [0], [0], [1], [0], [1], [1], [0], [0], [0], [1], [1], [0], [1], [1], [1], [0], [1], [0], [1], [0], [1], [0], [1], [1], [1], [1], [0], [0], [1], [0], [1], [1], [1], [1], [1], [1], [0], [1], [0], [0], [0], [0], [0], [0], [1], [1], [0], [0], [1], [1], [1], [0], [0], [1], [0], [1], [0], [1], [1], [0], [0], [0], [1], [1], [1], [0], [0], [0], [1], [0], [1], [0], [0], [1], [0], [0], [0], [0], [0], [0], [1], [0], [1], [1], [0], [0], [1], [0], [0], [0], [0], [0], [1], [1], [0], [0], [1], [0], [1], [1], [1], [0], [1], [0], [0], [0], [0], [0], [0], [0], [0], [1], [0], [1], [1], [0], [0], [0], [0], [1], [1], [1], [1], [1], [1], [1], [0], [1], [1], [0], [1], [1], [0], [1], [1], [1], [0], [1], [1], [0], [1], [0], [1], [1], [1], [1], [1], [1], [0], [1], [1], [0], [1], [0], [0], [0], [1], [0], [0], [1], [0], [0], [1], [1], [0], [0], [0], [1], [1], [1], [0], [0], [0], [1], [1], [1], [1], [1], [1], [1], [1], [1], [1], [1], [0], [1], [0], [0], [0], [1], [1], [1], [0], [1], [1], [1], [0], [0], [0], [1], [1], [1], [1], [0], [0], [1], [0], [0], [0], [1], [1], [0], [1], [1], [1], [0]]\n",
      "====BEFORE TRAINING W1 W2\n",
      "[[-0.81131822  1.48459876  0.06532937]\n",
      " [-2.44270396  0.0992484   0.59122431]]\n",
      "[[-0.81131822]\n",
      " [ 1.48459876]\n",
      " [ 0.06532937]]\n",
      "After 0 training steps , cross entropy on all data is 1.44155\n",
      "After 1000 training steps , cross entropy on all data is 0.0655992\n",
      "After 2000 training steps , cross entropy on all data is 0.0645216\n",
      "After 3000 training steps , cross entropy on all data is 0.0641509\n",
      "After 4000 training steps , cross entropy on all data is 0.0639071\n",
      "After 5000 training steps , cross entropy on all data is 0.0636871\n",
      "After 6000 training steps , cross entropy on all data is 0.063493\n",
      "After 7000 training steps , cross entropy on all data is 0.0633337\n",
      "After 8000 training steps , cross entropy on all data is 0.063199\n",
      "After 9000 training steps , cross entropy on all data is 0.0631227\n",
      "After 10000 training steps , cross entropy on all data is 0.0630914\n",
      "After 11000 training steps , cross entropy on all data is 0.0630737\n",
      "After 12000 training steps , cross entropy on all data is 0.06306\n",
      "After 13000 training steps , cross entropy on all data is 0.0630481\n",
      "After 14000 training steps , cross entropy on all data is 0.0630378\n",
      "After 15000 training steps , cross entropy on all data is 0.0630287\n",
      "After 16000 training steps , cross entropy on all data is 0.063021\n",
      "After 17000 training steps , cross entropy on all data is 0.0630142\n",
      "After 18000 training steps , cross entropy on all data is 0.0630082\n",
      "After 19000 training steps , cross entropy on all data is 0.063003\n",
      "After 20000 training steps , cross entropy on all data is 0.0629985\n",
      "===AFTER TRAINING W1 W2\n",
      "[[-2.12190056  5.84967804 -1.213081  ]\n",
      " [-2.02894831 -0.36355034 -1.2816602 ]]\n",
      "[[-6.22480392]\n",
      " [-0.25123936]\n",
      " [ 6.32498884]]\n"
     ]
    },
    {
     "name": "stdout",
     "output_type": "stream",
     "text": [
      "====PREDICT\n",
      "[[ 1.1482811 ]\n",
      " [ 1.16761684]\n",
      " [-0.0093751 ]\n",
      " [-0.0850091 ]\n",
      " [ 0.36367035]\n",
      " [ 0.52597952]]\n",
      "<type 'numpy.ndarray'>\n",
      "[ 1.1482811]\n",
      "Qualified!\n",
      "[ 1.16761684]\n",
      "Qualified!\n",
      "[-0.0093751]\n",
      "Not Qualified!\n",
      "[-0.0850091]\n",
      "Not Qualified!\n",
      "[ 0.36367035]\n",
      "Not Qualified!\n",
      "[ 0.52597952]\n",
      "Qualified!\n"
     ]
    }
   ],
   "source": [
    "BATCH_SIZE = 128\n",
    "STEPS = 20000\n",
    "\n",
    "w1=tf.Variable(tf.random_normal([2,3],stddev=1,seed=1))\n",
    "w2=tf.Variable(tf.random_normal([3,1],stddev=1,seed=1))\n",
    "\n",
    "x=tf.placeholder(tf.float32, shape=(None,2), name=\"x-input\")\n",
    "y_=tf.placeholder(tf.float32, shape=(None,1), name=\"y-input\")\n",
    "\n",
    "#define test data for a trained neural network with trained Weights\n",
    "test_data=[[0.3,0.1],[0.4,0.1],[0.8,0.6],[0.7,0.8],[0.95,0.13],[0.8,0.165]]\n",
    "\n",
    "\n",
    "#define neural network forward propagation\n",
    "a=tf.nn.tanh(tf.matmul(x,w1))\n",
    "#y=tf.nn.softmax(tf.matmul(a,w2))\n",
    "y=tf.matmul(a,w2)\n",
    "\n",
    "#define loss and backward propagation \n",
    "#cross_entropy = -tf.reduce_mean(y_*tf.log(tf.clip_by_value(y,1e-10,1.0)))\n",
    "cross_entropy = tf.reduce_mean(tf.reduce_sum(tf.square(y-y_),reduction_indices=[1]))\n",
    "#cross_entropy = tf.nn.softmax_cross_entropy_with_logits(labels=y_,logits=y)\n",
    "\n",
    "train_step = tf.train.AdamOptimizer(0.1).minimize(cross_entropy)\n",
    "#train_step = tf.train.GradientDescentOptimizer(0.003).minimize(cross_entropy)\n",
    "\n",
    "\n",
    "#generate training sample and lables\n",
    "rdm=RandomState(1)\n",
    "dataset_size=1280\n",
    "X=rdm.rand(dataset_size,2)\n",
    "\n",
    "Y = [[int(x1+x2<1)] for (x1,x2) in X]\n",
    "\n",
    "\n",
    "with tf.Session() as sess:\n",
    "    \n",
    "    init_op=tf.global_variables_initializer()\n",
    "    sess.run(init_op)\n",
    "    print(\"training  sample X\")\n",
    "    print(X)\n",
    "    print(\"training lable Y\")\n",
    "    print(Y)\n",
    "    print(\"====BEFORE TRAINING W1 W2\")\n",
    "    print(sess.run(w1))\n",
    "    print(sess.run(w2))\n",
    "    \n",
    "    for i in range(STEPS+1):\n",
    "\n",
    "        start=(i*BATCH_SIZE)%dataset_size\n",
    "        end=min(start+BATCH_SIZE,dataset_size)\n",
    "        \n",
    "        sess.run(train_step,feed_dict={x:X[start:end],y_:Y[start:end]})\n",
    "        \n",
    "        if i % 1000 == 0:\n",
    "            total_cross_entropy = sess.run(cross_entropy,feed_dict={x:X,y_:Y})\n",
    "            print(\"After %d training steps , cross entropy on all data is %g\" %(i,total_cross_entropy))\n",
    "    \n",
    "\n",
    "    print(\"===AFTER TRAINING W1 W2\")    \n",
    "    print(sess.run(w1))\n",
    "    print(sess.run(w2))\n",
    "    \n",
    "    \n",
    "    saver=tf.train.Saver()\n",
    "    saver.save(sess,\"model.ckpt\")\n",
    "    print\"====PREDICT\"\n",
    "    \n",
    "    predict_result = sess.run(y,feed_dict={x:test_data})\n",
    "    print predict_result\n",
    "    print type(predict_result)\n",
    "    \n",
    "    for result in predict_result:\n",
    "        print result\n",
    "        if result[0] > 0.5 :\n",
    "            print \"Qualified!\"\n",
    "        else:\n",
    "            print \"Not Qualified!\"\n",
    "   "
   ]
  },
  {
   "cell_type": "code",
   "execution_count": 7,
   "metadata": {},
   "outputs": [
    {
     "data": {
      "text/plain": [
       "[<matplotlib.lines.Line2D at 0x1109304d0>]"
      ]
     },
     "execution_count": 7,
     "metadata": {},
     "output_type": "execute_result"
    },
    {
     "data": {
      "image/png": "[encoded data removed]",
      "text/plain": [
       "<matplotlib.figure.Figure at 0x11081bd90>"
      ]
     },
     "metadata": {},
     "output_type": "display_data"
    }
   ],
   "source": [
    "#fig,ax=plt.subpolts()\n",
    "\n",
    "x = np.arange(0,2*np.pi,0.01)\n",
    "y = np.sin(x)\n",
    "%matplotlib inline\n",
    "plt.plot(x,y)"
   ]
  },
  {
   "cell_type": "code",
   "execution_count": 9,
   "metadata": {},
   "outputs": [
    {
     "name": "stdout",
     "output_type": "stream",
     "text": [
      "[[ 2.5  2.5  3. ]\n",
      " [ 4.   4.5  4.5]]\n"
     ]
    }
   ],
   "source": [
    "v=tf.constant([[1.0,2.0,3.0],[4.0,5.0,6.0]])\n",
    "s=tf.Session()\n",
    "print s.run(tf.clip_by_value(v,2.5,4.5))\n",
    "s.close()\n",
    "# tf.clip_by_value contains data in a dadicated range to avoid math error ."
   ]
  },
  {
   "cell_type": "code",
   "execution_count": 118,
   "metadata": {
    "scrolled": false
   },
   "outputs": [
    {
     "name": "stdout",
     "output_type": "stream",
     "text": [
      "steps 0 18.800000 learning_rate 0.030000\n",
      "steps 1 17.672000 learning_rate 0.030000\n",
      "steps 2 16.611680 learning_rate 0.030000\n",
      "steps 3 15.614979 learning_rate 0.030000\n",
      "steps 4 14.678080 learning_rate 0.030000\n",
      "steps 5 13.797396 learning_rate 0.030000\n",
      "steps 6 12.969552 learning_rate 0.030000\n",
      "steps 7 12.191379 learning_rate 0.030000\n",
      "steps 8 11.459896 learning_rate 0.030000\n",
      "steps 9 10.772302 learning_rate 0.030000\n",
      "steps 10 10.125964 learning_rate 0.030000\n",
      "steps 11 9.518406 learning_rate 0.030000\n",
      "steps 12 8.947302 learning_rate 0.030000\n",
      "steps 13 8.410464 learning_rate 0.030000\n",
      "steps 14 7.905836 learning_rate 0.030000\n",
      "steps 15 7.431486 learning_rate 0.030000\n",
      "steps 16 6.985597 learning_rate 0.030000\n",
      "steps 17 6.566461 learning_rate 0.030000\n",
      "steps 18 6.172473 learning_rate 0.030000\n",
      "steps 19 5.802125 learning_rate 0.030000\n",
      "steps 20 5.453997 learning_rate 0.030000\n",
      "steps 21 5.126757 learning_rate 0.030000\n",
      "steps 22 4.819152 learning_rate 0.030000\n",
      "steps 23 4.530003 learning_rate 0.030000\n",
      "steps 24 4.258203 learning_rate 0.030000\n",
      "steps 25 4.002711 learning_rate 0.030000\n",
      "steps 26 3.762548 learning_rate 0.030000\n",
      "steps 27 3.536795 learning_rate 0.030000\n",
      "steps 28 3.324587 learning_rate 0.030000\n",
      "steps 29 3.125112 learning_rate 0.030000\n",
      "steps 30 2.937605 learning_rate 0.030000\n",
      "steps 31 2.761349 learning_rate 0.030000\n",
      "steps 32 2.595668 learning_rate 0.030000\n",
      "steps 33 2.439928 learning_rate 0.030000\n",
      "steps 34 2.293532 learning_rate 0.030000\n",
      "steps 35 2.155920 learning_rate 0.030000\n",
      "steps 36 2.026565 learning_rate 0.030000\n",
      "steps 37 1.904971 learning_rate 0.030000\n",
      "steps 38 1.790673 learning_rate 0.030000\n",
      "steps 39 1.683233 learning_rate 0.030000\n",
      "steps 40 1.582239 learning_rate 0.030000\n",
      "steps 41 1.487304 learning_rate 0.030000\n",
      "steps 42 1.398066 learning_rate 0.030000\n",
      "steps 43 1.314182 learning_rate 0.030000\n",
      "steps 44 1.235331 learning_rate 0.030000\n",
      "steps 45 1.161211 learning_rate 0.030000\n",
      "steps 46 1.091539 learning_rate 0.030000\n",
      "steps 47 1.026046 learning_rate 0.030000\n",
      "steps 48 0.964484 learning_rate 0.030000\n",
      "steps 49 0.906615 learning_rate 0.030000\n",
      "steps 50 0.852218 learning_rate 0.030000\n",
      "steps 51 0.801085 learning_rate 0.030000\n",
      "steps 52 0.753020 learning_rate 0.030000\n",
      "steps 53 0.707838 learning_rate 0.030000\n",
      "steps 54 0.665368 learning_rate 0.030000\n",
      "steps 55 0.625446 learning_rate 0.030000\n",
      "steps 56 0.587919 learning_rate 0.030000\n",
      "steps 57 0.552644 learning_rate 0.030000\n",
      "steps 58 0.519485 learning_rate 0.030000\n",
      "steps 59 0.488316 learning_rate 0.030000\n",
      "steps 60 0.459017 learning_rate 0.030000\n",
      "steps 61 0.431476 learning_rate 0.030000\n",
      "steps 62 0.405588 learning_rate 0.030000\n",
      "steps 63 0.381252 learning_rate 0.030000\n",
      "steps 64 0.358377 learning_rate 0.030000\n",
      "steps 65 0.336875 learning_rate 0.030000\n",
      "steps 66 0.316662 learning_rate 0.030000\n",
      "steps 67 0.297662 learning_rate 0.030000\n",
      "steps 68 0.279803 learning_rate 0.030000\n",
      "steps 69 0.263015 learning_rate 0.030000\n",
      "steps 70 0.247234 learning_rate 0.030000\n",
      "steps 71 0.232400 learning_rate 0.030000\n",
      "steps 72 0.218456 learning_rate 0.030000\n",
      "steps 73 0.205348 learning_rate 0.030000\n",
      "steps 74 0.193027 learning_rate 0.030000\n",
      "steps 75 0.181446 learning_rate 0.030000\n",
      "steps 76 0.170559 learning_rate 0.030000\n",
      "steps 77 0.160325 learning_rate 0.030000\n",
      "steps 78 0.150706 learning_rate 0.030000\n",
      "steps 79 0.141664 learning_rate 0.030000\n",
      "steps 80 0.133164 learning_rate 0.030000\n",
      "steps 81 0.125174 learning_rate 0.030000\n",
      "steps 82 0.117664 learning_rate 0.030000\n",
      "steps 83 0.110604 learning_rate 0.030000\n",
      "steps 84 0.103967 learning_rate 0.030000\n",
      "steps 85 0.097729 learning_rate 0.030000\n",
      "steps 86 0.091866 learning_rate 0.030000\n",
      "steps 87 0.086354 learning_rate 0.030000\n",
      "steps 88 0.081173 learning_rate 0.030000\n",
      "steps 89 0.076302 learning_rate 0.030000\n",
      "steps 90 0.071724 learning_rate 0.030000\n",
      "steps 91 0.067421 learning_rate 0.030000\n",
      "steps 92 0.063375 learning_rate 0.030000\n",
      "steps 93 0.059573 learning_rate 0.030000\n",
      "steps 94 0.055998 learning_rate 0.030000\n",
      "steps 95 0.052639 learning_rate 0.030000\n",
      "steps 96 0.049480 learning_rate 0.030000\n",
      "steps 97 0.046511 learning_rate 0.030000\n",
      "steps 98 0.043721 learning_rate 0.030000\n",
      "steps 99 0.041097 learning_rate 0.030000\n"
     ]
    },
    {
     "data": {
      "text/plain": [
       "[<matplotlib.lines.Line2D at 0x11c14f990>]"
      ]
     },
     "execution_count": 118,
     "metadata": {},
     "output_type": "execute_result"
    },
    {
     "data": {
      "image/png": "[encoded data removed]",
      "text/plain": [
       "<matplotlib.figure.Figure at 0x11be38d50>"
      ]
     },
     "metadata": {},
     "output_type": "display_data"
    }
   ],
   "source": [
    "#the following code is a description about Gradient Descent \n",
    "#w = 20 is  initial weight\n",
    "#0.1 is  initial learning rate\n",
    "\n",
    "w = 20\n",
    "learning_rate = 0.03\n",
    "STEPS = 100\n",
    "#try to tunning init learning rate and steps ,check the matplot graph line\n",
    "\n",
    "i = 0\n",
    "y = []\n",
    "x = []\n",
    "for i in range(STEPS):\n",
    "    y.append(w)\n",
    "    x.append(i)\n",
    "    w = w-learning_rate*2*w  # 2 means Gradient ,comes from back-propagation method \n",
    "    print(\"steps %d %f learning_rate %f\"%(i,w,learning_rate))\n",
    "    \n",
    "%matplotlib inline\n",
    "plt.plot(x,y)\n"
   ]
  },
  {
   "cell_type": "code",
   "execution_count": 119,
   "metadata": {},
   "outputs": [
    {
     "name": "stdout",
     "output_type": "stream",
     "text": [
      "Steps 0 16.000000 decayed_learning_rate 0.100000\n",
      "Steps 1 12.800000 decayed_learning_rate 0.100000\n",
      "Steps 2 10.240000 decayed_learning_rate 0.100000\n",
      "Steps 3 8.192000 decayed_learning_rate 0.100000\n",
      "Steps 4 6.553600 decayed_learning_rate 0.100000\n",
      "Steps 5 5.373952 decayed_learning_rate 0.090000\n",
      "Steps 6 4.406641 decayed_learning_rate 0.090000\n",
      "Steps 7 3.613445 decayed_learning_rate 0.090000\n",
      "Steps 8 2.963025 decayed_learning_rate 0.090000\n",
      "Steps 9 2.429681 decayed_learning_rate 0.090000\n",
      "Steps 10 2.036072 decayed_learning_rate 0.081000\n",
      "Steps 11 1.706229 decayed_learning_rate 0.081000\n",
      "Steps 12 1.429820 decayed_learning_rate 0.081000\n",
      "Steps 13 1.198189 decayed_learning_rate 0.081000\n",
      "Steps 14 1.004082 decayed_learning_rate 0.081000\n",
      "Steps 15 0.857687 decayed_learning_rate 0.072900\n",
      "Steps 16 0.732636 decayed_learning_rate 0.072900\n",
      "Steps 17 0.625818 decayed_learning_rate 0.072900\n",
      "Steps 18 0.534574 decayed_learning_rate 0.072900\n",
      "Steps 19 0.456633 decayed_learning_rate 0.072900\n",
      "Steps 20 0.396713 decayed_learning_rate 0.065610\n",
      "Steps 21 0.344657 decayed_learning_rate 0.065610\n",
      "Steps 22 0.299431 decayed_learning_rate 0.065610\n",
      "Steps 23 0.260140 decayed_learning_rate 0.065610\n",
      "Steps 24 0.226004 decayed_learning_rate 0.065610\n",
      "Steps 25 0.199313 decayed_learning_rate 0.059049\n",
      "Steps 26 0.175775 decayed_learning_rate 0.059049\n",
      "Steps 27 0.155016 decayed_learning_rate 0.059049\n",
      "Steps 28 0.136709 decayed_learning_rate 0.059049\n",
      "Steps 29 0.120564 decayed_learning_rate 0.059049\n",
      "Steps 30 0.107750 decayed_learning_rate 0.053144\n",
      "Steps 31 0.096297 decayed_learning_rate 0.053144\n",
      "Steps 32 0.086062 decayed_learning_rate 0.053144\n",
      "Steps 33 0.076914 decayed_learning_rate 0.053144\n",
      "Steps 34 0.068739 decayed_learning_rate 0.053144\n",
      "Steps 35 0.062164 decayed_learning_rate 0.047830\n",
      "Steps 36 0.056217 decayed_learning_rate 0.047830\n",
      "Steps 37 0.050840 decayed_learning_rate 0.047830\n",
      "Steps 38 0.045976 decayed_learning_rate 0.047830\n",
      "Steps 39 0.041578 decayed_learning_rate 0.047830\n",
      "Steps 40 0.037999 decayed_learning_rate 0.043047\n",
      "Steps 41 0.034727 decayed_learning_rate 0.043047\n",
      "Steps 42 0.031737 decayed_learning_rate 0.043047\n",
      "Steps 43 0.029005 decayed_learning_rate 0.043047\n",
      "Steps 44 0.026508 decayed_learning_rate 0.043047\n",
      "Steps 45 0.024454 decayed_learning_rate 0.038742\n",
      "Steps 46 0.022559 decayed_learning_rate 0.038742\n",
      "Steps 47 0.020811 decayed_learning_rate 0.038742\n",
      "Steps 48 0.019199 decayed_learning_rate 0.038742\n",
      "Steps 49 0.017711 decayed_learning_rate 0.038742\n"
     ]
    },
    {
     "data": {
      "text/plain": [
       "[<matplotlib.lines.Line2D at 0x11c254610>]"
      ]
     },
     "execution_count": 119,
     "metadata": {},
     "output_type": "execute_result"
    },
    {
     "data": {
      "image/png": "[encoded data removed]",
      "text/plain": [
       "<matplotlib.figure.Figure at 0x113a0a5d0>"
      ]
     },
     "metadata": {},
     "output_type": "display_data"
    }
   ],
   "source": [
    "#the following code is a description about Gradient Descent \n",
    "#w = 20 is  initial weight\n",
    "#0.1 is  initial learning rate\n",
    "#DECAYED LEARNING RATE TO DYNAMIC ADJUST LEARNING RATE AND REDUCE TRAINING EPOCHS\n",
    "\n",
    "w = 20\n",
    "learning_rate = 0.1\n",
    "STEPS = 50\n",
    "DECAYED_RATE = 0.9\n",
    "DECAYED_STEPS = 5\n",
    "\n",
    "#try to tunning init learning rate and steps ,check the matplot graph line\n",
    "\n",
    "i = 0\n",
    "y = []\n",
    "x = []\n",
    "for i in range(STEPS):\n",
    "    y.append(w)\n",
    "    x.append(i)\n",
    "    decayed_learning_rate = learning_rate * DECAYED_RATE**(i/DECAYED_STEPS)\n",
    "    w = w-decayed_learning_rate*2*w  # 2 means Gradient ,comes from back-propagation method \n",
    "    print(\"Steps %d %f decayed_learning_rate %f\"%(i,w,decayed_learning_rate))\n",
    "    \n",
    "%matplotlib inline\n",
    "plt.plot(x,y)"
   ]
  },
  {
   "cell_type": "code",
   "execution_count": 52,
   "metadata": {},
   "outputs": [
    {
     "name": "stdout",
     "output_type": "stream",
     "text": [
      "[5 5 2 1 3 0]\n",
      "[5 5 2 1 5 0]\n",
      "Tensor(\"Equal_10:0\", shape=(6,), dtype=bool)\n",
      "[ 1.  1.  1.  1.  0.  1.]\n",
      "0.833333\n"
     ]
    }
   ],
   "source": [
    "#tf.argmax find the max number position in the array lines \n",
    "# and how to check the training accuracy\n",
    "pred = np.array([[31, 23,  4, 24, 27, 34],\n",
    "                [18,  3, 25,  0,  6, 35],\n",
    "                [28, 14, 33, 22, 20,  8],\n",
    "                [13, 30, 21, 19,  7,  9],\n",
    "                [16,  1, 26, 32,  2, 29],\n",
    "                [17, 12,  5, 11, 10, 15]])\n",
    "y = np.array([[31, 23,  4, 24, 27, 34],\n",
    "                [18,  3, 25,  0,  6, 35],\n",
    "                [28, 14, 33, 22, 20,  8],\n",
    "                [13, 30, 21, 19,  7,  9],\n",
    "                [16,  1, 26, 32,  2, 33],\n",
    "                [17, 12,  5, 11, 10, 15]])\n",
    "\n",
    "with tf.Session() as sess:\n",
    "    print(sess.run(tf.argmax(pred,1)))\n",
    "    print(sess.run(tf.argmax(y,1)))\n",
    "    \n",
    "    correct_prediction = tf.equal(tf.argmax(y,1),tf.argmax(pred,1))\n",
    "    print(correct_prediction) # dtype = bool\n",
    "    accuracy = tf.reduce_mean(tf.cast(correct_prediction,tf.float32))\n",
    "    print(sess.run(tf.cast(correct_prediction,tf.float32)))\n",
    "   \n",
    "    print(sess.run(accuracy))"
   ]
  },
  {
   "cell_type": "code",
   "execution_count": 88,
   "metadata": {},
   "outputs": [
    {
     "name": "stdout",
     "output_type": "stream",
     "text": [
      "[[ 0.11920291  0.88079703]\n",
      " [ 0.26894143  0.7310586 ]\n",
      " [ 0.31002551  0.68997443]]\n",
      "[ 2.25385618  1.38629436  0.19234619]\n"
     ]
    }
   ],
   "source": [
    "#test tf.nn.softmax ,sfotmax means the probabbilities in the line ,ust the math fucntion softmax()\n",
    "# e = 2.71828\n",
    "\n",
    "x = tf.constant([[1 , 3],\n",
    " [  1,  2],\n",
    " [ 0.1 ,  0.9]])\n",
    "\n",
    "#for softmax([1,3]) = [ (e**1/(e**1+e**3)) , (e**3/(e**1+e**3))] = [0.11920... , 0.88079...]\n",
    "y = tf.constant([[2,4],\n",
    "                 [1,1],\n",
    "                  [0.2,1.1]])\n",
    "\n",
    "y_ = tf.constant([[1,1],\n",
    "                 [1,1],\n",
    "                 [0.1,0.2]])\n",
    "\n",
    "with tf.Session() as sess:\n",
    "    print(sess.run(tf.nn.softmax(x)))\n",
    "    print(sess.run(tf.nn.softmax_cross_entropy_with_logits(logits=y,labels=y_)))"
   ]
  },
  {
   "cell_type": "code",
   "execution_count": 67,
   "metadata": {},
   "outputs": [
    {
     "data": {
      "text/html": [
       "<img src=\"https://wikimedia.org/api/rest_v1/media/math/render/svg/e348290cf48ddbb6e9a6ef4e39363568b67c09d3\"/>"
      ],
      "text/plain": [
       "<IPython.core.display.Image object>"
      ]
     },
     "execution_count": 67,
     "metadata": {},
     "output_type": "execute_result"
    }
   ],
   "source": [
    "#softmax function as the following\n",
    "Image(url=\"https://wikimedia.org/api/rest_v1/media/math/render/svg/e348290cf48ddbb6e9a6ef4e39363568b67c09d3\")"
   ]
  },
  {
   "cell_type": "code",
   "execution_count": 83,
   "metadata": {},
   "outputs": [
    {
     "name": "stdout",
     "output_type": "stream",
     "text": [
      "[[[  1.90944988e-02]\n",
      "  [  1.20956451e-03]\n",
      "  [  1.51437800e-03]]\n",
      "\n",
      " [[  1.93372853e-02]\n",
      "  [  4.18227958e-03]\n",
      "  [  2.23891679e-02]]\n",
      "\n",
      " [[ -8.89478106e-05]\n",
      "  [  4.23465669e-03]\n",
      "  [ -2.69078556e-03]]]\n",
      "[[[[ 0.00910343 -0.01033716]]\n",
      "\n",
      "  [[-0.01552507  0.00106977]]\n",
      "\n",
      "  [[ 0.00430991  0.00050735]]]\n",
      "\n",
      "\n",
      " [[[-0.022483    0.00634809]]\n",
      "\n",
      "  [[ 0.00177613 -0.00894006]]\n",
      "\n",
      "  [[-0.0017625  -0.00054331]]]\n",
      "\n",
      "\n",
      " [[[-0.01409278  0.00436285]]\n",
      "\n",
      "  [[ 0.01244848 -0.0026869 ]]\n",
      "\n",
      "  [[-0.00201324 -0.00658789]]]]\n"
     ]
    }
   ],
   "source": [
    "#init all random weights with shape \n",
    "# useful for a multi hidden layers neural network weights initialize\n",
    "\n",
    "def init_weights(shape):\n",
    "    return tf.Variable(tf.random_normal(shape,stddev=0.01))\n",
    "\n",
    "w = init_weights([3,3,1])\n",
    "w1 = init_weights([3,3,1,2])\n",
    "\n",
    "with tf.Session() as sess:\n",
    "    init = tf.global_variables_initializer()\n",
    "    sess.run(init)\n",
    "    print(sess.run(w))\n",
    "    print(sess.run(w1))\n"
   ]
  },
  {
   "cell_type": "markdown",
   "metadata": {},
   "source": [
    "#### ExponentialMovingAverage \n",
    "> decay_rate = min { init_decay ,(1+num_updates)/(10+num_updates)}  init_decay is the first decay_rate ,num_updates means steps\n",
    "\n",
    ">new_shadow_variable = decay_rate * old_shadow_variable + (1-decay_rate) * real_variable )\n",
    "\n",
    "> Actually , moving average is use to compute a moving avergage in a list ."
   ]
  },
  {
   "cell_type": "code",
   "execution_count": 141,
   "metadata": {},
   "outputs": [
    {
     "name": "stdout",
     "output_type": "stream",
     "text": [
      "[0.0, 0.0, 0.0, 0.0]\n",
      "[2.0, 1.8, 3.0, 2.6999998]\n",
      "[4.0, 3.78, 5.0, 4.77]\n",
      "[6.0, 4.7789998, 7.0, 5.7735]\n"
     ]
    }
   ],
   "source": [
    "v1 = tf.Variable(0, dtype=tf.float32)  \n",
    "v2 = tf.Variable(0, dtype=tf.float32) \n",
    "\n",
    "step = tf.Variable(0, trainable=False)\n",
    "\n",
    "ema = tf.train.ExponentialMovingAverage(0.99,step)  \n",
    "averages_op = ema.apply([v1,v2])  \n",
    "  \n",
    "with tf.Session() as sess:  \n",
    "    init_op = tf.global_variables_initializer()  \n",
    "    sess.run(init_op)  \n",
    "    print sess.run([v1,ema.average(v1),v2,ema.average(v2)])  \n",
    "  \n",
    "    sess.run(tf.assign(v1,2))  \n",
    "    sess.run(tf.assign(v2,3))  \n",
    "    sess.run(averages_op)\n",
    "    \n",
    "    # decay_rate = min{0.99,(1+step)/(10+Step)} = min{0.99,(1+0/10+0)=0.1}=0.1\n",
    "    # average = shadow_variable = decay_rate * shadow_variable +(1-decay_rate)*variable = 0.1*0+(1-0.1)*2 =1.8\n",
    "    print sess.run([v1,ema.average(v1),v2,ema.average(v2)])\n",
    "    \n",
    "    sess.run(tf.assign(v1,4))  \n",
    "    sess.run(tf.assign(v2,5))  \n",
    "    sess.run(averages_op)\n",
    "    #v1 = 0.1*1.8+(1-0.1)*4 = 0.18+3.6 =3.78 \n",
    "    print sess.run([v1,ema.average(v1),v2,ema.average(v2)])\n",
    "    \n",
    "    sess.run(tf.assign(step,10))\n",
    "    sess.run(tf.assign(v1,6))  \n",
    "    sess.run(tf.assign(v2,7))  \n",
    "    sess.run(averages_op)\n",
    "    #decay_rate = min{0.99 , (1+10)/(10+10)} = min {0.99, 11/20=0.55} =0.55\n",
    "    #v1 = 0.55*3.78+(1-0.55)*6 = 2.079 + 2.7 = 4.779 \n",
    "    print sess.run([v1,ema.average(v1),v2,ema.average(v2)])"
   ]
  },
  {
   "cell_type": "markdown",
   "metadata": {},
   "source": [
    "### Autoencoder Neural network\n",
    "> focus on non supervisor learnig , basicly ,compress input samples and decompress output ,compare the ou[ut and input and use back prpopagation to reduce the loss , finally formed neural network weights"
   ]
  },
  {
   "cell_type": "code",
   "execution_count": null,
   "metadata": {
    "collapsed": true
   },
   "outputs": [],
   "source": []
  }
 ],
 "metadata": {
  "kernelspec": {
   "display_name": "Python 2",
   "language": "python",
   "name": "python2"
  },
  "language_info": {
   "codemirror_mode": {
    "name": "ipython",
    "version": 2
   },
   "file_extension": ".py",
   "mimetype": "text/x-python",
   "name": "python",
   "nbconvert_exporter": "python",
   "pygments_lexer": "ipython2",
   "version": "2.7.10"
  }
 },
 "nbformat": 4,
 "nbformat_minor": 2
}
